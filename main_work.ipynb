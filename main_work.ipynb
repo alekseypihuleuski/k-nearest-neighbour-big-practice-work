{
 "cells": [
  {
   "cell_type": "markdown",
   "metadata": {
    "id": "m9QWlN-lq0qw"
   },
   "source": [
    "# Метрическая классификация. Метод ближайших соседей и его развитие\n",
    "# Практическая работа"
   ]
  },
  {
   "cell_type": "markdown",
   "metadata": {
    "id": "mbvb7kgYlESw"
   },
   "source": [
    "## Цели практической работы\n",
    "Научиться:\n",
    "- строить модель методом ближайших соседей на реальных данных;\n",
    "- правильно определять качество работы модели.\n"
   ]
  },
  {
   "cell_type": "markdown",
   "metadata": {
    "id": "voCLRWvvllfQ"
   },
   "source": [
    "## Что входит в практическую работу\n",
    "\n",
    "\n",
    "- Загрузить данные и ознакомиться с ними.\n",
    "- Изучить данные и провести анализ.\n",
    "- Разделить данные на обучающую и тестовую выборки.\n",
    "- Реализовать построение модели с помощью  библиотеки Scikit-learn.\n",
    "- Подобрать оптимальное число ближайших соседей методом leave-one-out.\n",
    "- Получить качество модели с помощью F-меры и матрицы сопряжённости."
   ]
  },
  {
   "cell_type": "markdown",
   "metadata": {
    "id": "4Nb7eTxYWWUe"
   },
   "source": [
    "# Задача"
   ]
  },
  {
   "cell_type": "markdown",
   "metadata": {
    "id": "ug5TQChn6KiJ"
   },
   "source": [
    "Один из способов повысить эффективность взаимодействия банка с клиентами — отправлять предложение о новой услуге не всем клиентам, а только некоторым, которые выбираются по принципу наибольшей склонности к отклику на это предложение.\n",
    "\n",
    "Задача заключается в том, чтобы предложить алгоритм, который будет выдавать склонность клиента к положительному или отрицательному отклику на предложение банка. Предполагается, что, получив такие оценки для некоторого множества клиентов, банк обратится с предложением только к тем, от кого ожидается положительный отклик.\n"
   ]
  },
  {
   "cell_type": "markdown",
   "metadata": {
    "id": "5k52FwP156I6"
   },
   "source": [
    "Для решения этой задачи загрузите дамп базы в Postgres. \n",
    "Эта БД хранит информацию о клиентах банка и их персональные данные, такие как пол, количество детей и другие.\n",
    "\n",
    "Описание таблиц с данными представлено ниже.\n"
   ]
  },
  {
   "cell_type": "markdown",
   "metadata": {
    "id": "3HYLpuwA6dAw"
   },
   "source": [
    "**D_work**\n",
    "\n",
    "Описание статусов относительно работы:\n",
    "- ID — идентификатор социального статуса клиента относительно работы;\n",
    "- COMMENT — расшифровка статуса.\n",
    "\n",
    "\n",
    "**D_pens**\n",
    "\n",
    "Описание статусов относительно пенсии:\n",
    "- ID — идентификатор социального статуса;\n",
    "- COMMENT — расшифровка статуса.\n",
    "\n",
    "\n",
    "**D_clients**\n",
    "\n",
    "Описание данных клиентов:\n",
    "- ID — идентификатор записи;\n",
    "- AGE\t— возраст клиента;\n",
    "- GENDER — пол клиента (1 — мужчина, 0 — женщина);\n",
    "- EDUCATION — образование;\n",
    "- MARITAL_STATUS — семейное положение;\n",
    "- CHILD_TOTAL\t— количество детей клиента;\n",
    "- DEPENDANTS — количество иждивенцев клиента;\n",
    "- SOCSTATUS_WORK_FL\t— социальный статус клиента относительно работы (1 — работает, 0 — не работает);\n",
    "- SOCSTATUS_PENS_FL\t— социальный статус клиента относительно пенсии (1 — пенсионер, 0 — не пенсионер);\n",
    "- REG_ADDRESS_PROVINCE — область регистрации клиента;\n",
    "- FACT_ADDRESS_PROVINCE — область фактического пребывания клиента;\n",
    "- POSTAL_ADDRESS_PROVINCE — почтовый адрес области;\n",
    "- FL_PRESENCE_FL — наличие в собственности квартиры (1 — есть, 0 — нет);\n",
    "- OWN_AUTO — количество автомобилей в собственности. \n",
    "\n",
    "\n",
    "**D_agreement**\n",
    "\n",
    "Таблица с зафиксированными откликами клиентов на предложения банка:\n",
    "- AGREEMENT_RK — уникальный идентификатор объекта в выборке;\n",
    "- ID_CLIENT — идентификатор клиента;\n",
    "- TARGET — целевая переменная: отклик на маркетинговую кампанию (1 — отклик был зарегистрирован, 0 — отклика не было).\n",
    "    \n",
    "    \n",
    "**D_job**\n",
    "\n",
    "Описание информации о работе клиентов:\n",
    "- GEN_INDUSTRY — отрасль работы клиента;\n",
    "- GEN_TITLE — должность;\n",
    "- JOB_DIR — направление деятельности внутри компании;\n",
    "- WORK_TIME — время работы на текущем месте (в месяцах);\n",
    "- ID_CLIENT — идентификатор клиента.\n",
    "\n",
    "\n",
    "**D_salary**\n",
    "\n",
    "Описание информации о заработной плате клиентов:\n",
    "- ID_CLIENT — идентификатор клиента;\n",
    "- FAMILY_INCOME — семейный доход (несколько категорий);\n",
    "- PERSONAL_INCOME — личный доход клиента (в рублях).\n",
    "\n",
    "\n",
    "**D_last_credit**\n",
    "\n",
    "Информация о последнем займе клиента:\n",
    "- ID_CLIENT — идентификатор клиента;\n",
    "- CREDIT — сумма последнего кредита клиента (в рублях);\n",
    "- TERM — срок кредита;\n",
    "- FST_PAYMENT — первоначальный взнос (в рублях).\n",
    "\n",
    "\n",
    "**D_loan**\n",
    "\n",
    "Информация о кредитной истории клиента:\n",
    "- ID_CLIENT — идентификатор клиента;\n",
    "- ID_LOAN — идентификатор кредита.\n",
    "\n",
    "**D_close_loan**\n",
    "\n",
    "Информация о статусах кредита (ссуд):\n",
    "- ID_LOAN — идентификатор кредита;\n",
    "- CLOSED_FL — текущий статус кредита (1 — закрыт, 0 — не закрыт)."
   ]
  },
  {
   "cell_type": "markdown",
   "metadata": {
    "id": "eTXp2LYR6dCm"
   },
   "source": [
    "1. Изучите состав БД с помощью инструмента отрисовки ERD-диаграмм (Entity Relationship diagram отображает все сущности БД, а также визуализирует связность таблиц). Соберите датасет следующей структуры из данных, имеющихся в базе:"
   ]
  },
  {
   "cell_type": "markdown",
   "metadata": {
    "id": "xDZKZYCtmbwi"
   },
   "source": [
    "    - AGREEMENT_RK — уникальный идентификатор объекта в выборке;\n",
    "    - TARGET — целевая переменная: отклик на маркетинговую кампанию (1 — отклик был зарегистрирован, 0 — отклика не было);\n",
    "    - AGE — возраст клиента;\n",
    "    - SOCSTATUS_WORK_FL — социальный статус клиента относительно работы (1 — работает, 0 — не работает);\n",
    "    - SOCSTATUS_PENS_FL — социальный статус клиента относительно пенсии (1 — пенсионер, 0 — не пенсионер);\n",
    "    - GENDER — пол клиента (1 — мужчина, 0 — женщина);\n",
    "    - CHILD_TOTAL — количество детей клиента;\n",
    "    - DEPENDANTS — количество иждивенцев клиента;\n",
    "    - PERSONAL_INCOME — личный доход клиента (в рублях);\n",
    "    - LOAN_NUM_TOTAL — количество ссуд клиента;\n",
    "    - LOAN_NUM_CLOSED — количество погашенных ссуд клиента.\n"
   ]
  },
  {
   "cell_type": "markdown",
   "metadata": {
    "id": "EDpojLFeAw2Y"
   },
   "source": [
    "Будьте внимательны при сборке датасета: это реальные банковские данные, в которых могут наблюдаться дубли, некорректно заполненные значения или значения, противоречащие друг другу. Для получения качественной модели необходимо предварительно очистить датасет от такой информации."
   ]
  },
  {
   "cell_type": "markdown",
   "metadata": {},
   "source": [
    "### Выгрузка данных произведена в файле 'get_df_from_postgres'"
   ]
  },
  {
   "cell_type": "markdown",
   "metadata": {},
   "source": [
    "### Сбор финального датафрейма произведен в файле 'merge_df'"
   ]
  },
  {
   "cell_type": "markdown",
   "metadata": {
    "id": "b6goKA2-mrnv"
   },
   "source": [
    "2. Постройте модель зависимости TARGET от остальных параметров получившейся таблицы методом ближайших соседей."
   ]
  },
  {
   "cell_type": "markdown",
   "metadata": {
    "id": "gJCAiMPemxqH"
   },
   "source": [
    "3. Получите качество модели с помощью F-меры и матрицы сопряжённости."
   ]
  },
  {
   "cell_type": "code",
   "execution_count": 1,
   "metadata": {
    "id": "bQvgKoWyid7b"
   },
   "outputs": [],
   "source": [
    "# подключить необходимые библиотеки\n",
    "\n",
    "import pandas as pd\n",
    "import matplotlib.pyplot as plt\n",
    "\n",
    "from matplotlib.ticker import FormatStrFormatter\n",
    "from sklearn.model_selection import train_test_split, LeaveOneOut, cross_val_score\n",
    "from sklearn.metrics import f1_score, roc_curve, auc, precision_recall_curve\n",
    "from sklearn.metrics import confusion_matrix, classification_report\n",
    "from sklearn.preprocessing import StandardScaler\n",
    "from sklearn.neighbors import KNeighborsClassifier"
   ]
  },
  {
   "cell_type": "code",
   "execution_count": 2,
   "metadata": {
    "id": "bKtwCaVgm-g2"
   },
   "outputs": [
    {
     "data": {
      "text/html": [
       "<div>\n",
       "<style scoped>\n",
       "    .dataframe tbody tr th:only-of-type {\n",
       "        vertical-align: middle;\n",
       "    }\n",
       "\n",
       "    .dataframe tbody tr th {\n",
       "        vertical-align: top;\n",
       "    }\n",
       "\n",
       "    .dataframe thead th {\n",
       "        text-align: right;\n",
       "    }\n",
       "</style>\n",
       "<table border=\"1\" class=\"dataframe\">\n",
       "  <thead>\n",
       "    <tr style=\"text-align: right;\">\n",
       "      <th></th>\n",
       "      <th>agreement_rk</th>\n",
       "      <th>id_client</th>\n",
       "      <th>target</th>\n",
       "      <th>personal_income</th>\n",
       "      <th>age</th>\n",
       "      <th>gender</th>\n",
       "      <th>child_total</th>\n",
       "      <th>dependants</th>\n",
       "      <th>socstatus_work_fl</th>\n",
       "      <th>socstatus_pens_fl</th>\n",
       "      <th>loan_num_total</th>\n",
       "      <th>loan_num_closed</th>\n",
       "    </tr>\n",
       "  </thead>\n",
       "  <tbody>\n",
       "    <tr>\n",
       "      <th>0</th>\n",
       "      <td>59910150.0</td>\n",
       "      <td>106804370.0</td>\n",
       "      <td>0.0</td>\n",
       "      <td>5000.0</td>\n",
       "      <td>49.0</td>\n",
       "      <td>1.0</td>\n",
       "      <td>2.0</td>\n",
       "      <td>1.0</td>\n",
       "      <td>2.0</td>\n",
       "      <td>1.0</td>\n",
       "      <td>1</td>\n",
       "      <td>1.0</td>\n",
       "    </tr>\n",
       "    <tr>\n",
       "      <th>1</th>\n",
       "      <td>59910230.0</td>\n",
       "      <td>106804371.0</td>\n",
       "      <td>0.0</td>\n",
       "      <td>12000.0</td>\n",
       "      <td>32.0</td>\n",
       "      <td>1.0</td>\n",
       "      <td>3.0</td>\n",
       "      <td>3.0</td>\n",
       "      <td>2.0</td>\n",
       "      <td>1.0</td>\n",
       "      <td>1</td>\n",
       "      <td>1.0</td>\n",
       "    </tr>\n",
       "    <tr>\n",
       "      <th>2</th>\n",
       "      <td>59910525.0</td>\n",
       "      <td>106804372.0</td>\n",
       "      <td>0.0</td>\n",
       "      <td>9000.0</td>\n",
       "      <td>52.0</td>\n",
       "      <td>1.0</td>\n",
       "      <td>4.0</td>\n",
       "      <td>0.0</td>\n",
       "      <td>2.0</td>\n",
       "      <td>1.0</td>\n",
       "      <td>2</td>\n",
       "      <td>1.0</td>\n",
       "    </tr>\n",
       "    <tr>\n",
       "      <th>3</th>\n",
       "      <td>59910803.0</td>\n",
       "      <td>106804373.0</td>\n",
       "      <td>0.0</td>\n",
       "      <td>25000.0</td>\n",
       "      <td>39.0</td>\n",
       "      <td>1.0</td>\n",
       "      <td>1.0</td>\n",
       "      <td>1.0</td>\n",
       "      <td>2.0</td>\n",
       "      <td>1.0</td>\n",
       "      <td>1</td>\n",
       "      <td>1.0</td>\n",
       "    </tr>\n",
       "    <tr>\n",
       "      <th>4</th>\n",
       "      <td>59911781.0</td>\n",
       "      <td>106804374.0</td>\n",
       "      <td>0.0</td>\n",
       "      <td>12000.0</td>\n",
       "      <td>30.0</td>\n",
       "      <td>0.0</td>\n",
       "      <td>0.0</td>\n",
       "      <td>0.0</td>\n",
       "      <td>2.0</td>\n",
       "      <td>1.0</td>\n",
       "      <td>2</td>\n",
       "      <td>1.0</td>\n",
       "    </tr>\n",
       "  </tbody>\n",
       "</table>\n",
       "</div>"
      ],
      "text/plain": [
       "   agreement_rk    id_client  target  personal_income   age  gender  \\\n",
       "0    59910150.0  106804370.0     0.0           5000.0  49.0     1.0   \n",
       "1    59910230.0  106804371.0     0.0          12000.0  32.0     1.0   \n",
       "2    59910525.0  106804372.0     0.0           9000.0  52.0     1.0   \n",
       "3    59910803.0  106804373.0     0.0          25000.0  39.0     1.0   \n",
       "4    59911781.0  106804374.0     0.0          12000.0  30.0     0.0   \n",
       "\n",
       "   child_total  dependants  socstatus_work_fl  socstatus_pens_fl  \\\n",
       "0          2.0         1.0                2.0                1.0   \n",
       "1          3.0         3.0                2.0                1.0   \n",
       "2          4.0         0.0                2.0                1.0   \n",
       "3          1.0         1.0                2.0                1.0   \n",
       "4          0.0         0.0                2.0                1.0   \n",
       "\n",
       "   loan_num_total  loan_num_closed  \n",
       "0               1              1.0  \n",
       "1               1              1.0  \n",
       "2               2              1.0  \n",
       "3               1              1.0  \n",
       "4               2              1.0  "
      ]
     },
     "execution_count": 2,
     "metadata": {},
     "output_type": "execute_result"
    }
   ],
   "source": [
    "# считать данные\n",
    "\n",
    "df = pd.read_csv('data/6.8 after_merge_df.csv')\n",
    "df.head()"
   ]
  },
  {
   "cell_type": "markdown",
   "metadata": {},
   "source": [
    "## Ознакомление с данными"
   ]
  },
  {
   "cell_type": "code",
   "execution_count": 3,
   "metadata": {},
   "outputs": [
    {
     "name": "stdout",
     "output_type": "stream",
     "text": [
      "<class 'pandas.core.frame.DataFrame'>\n",
      "RangeIndex: 15223 entries, 0 to 15222\n",
      "Data columns (total 12 columns):\n",
      " #   Column             Non-Null Count  Dtype  \n",
      "---  ------             --------------  -----  \n",
      " 0   agreement_rk       15223 non-null  float64\n",
      " 1   id_client          15223 non-null  float64\n",
      " 2   target             15223 non-null  float64\n",
      " 3   personal_income    15223 non-null  float64\n",
      " 4   age                15223 non-null  float64\n",
      " 5   gender             15223 non-null  float64\n",
      " 6   child_total        15223 non-null  float64\n",
      " 7   dependants         15223 non-null  float64\n",
      " 8   socstatus_work_fl  15223 non-null  float64\n",
      " 9   socstatus_pens_fl  15223 non-null  float64\n",
      " 10  loan_num_total     15223 non-null  int64  \n",
      " 11  loan_num_closed    15223 non-null  float64\n",
      "dtypes: float64(11), int64(1)\n",
      "memory usage: 1.4 MB\n"
     ]
    }
   ],
   "source": [
    "df.info()"
   ]
  },
  {
   "cell_type": "code",
   "execution_count": 4,
   "metadata": {},
   "outputs": [
    {
     "data": {
      "text/html": [
       "<div>\n",
       "<style scoped>\n",
       "    .dataframe tbody tr th:only-of-type {\n",
       "        vertical-align: middle;\n",
       "    }\n",
       "\n",
       "    .dataframe tbody tr th {\n",
       "        vertical-align: top;\n",
       "    }\n",
       "\n",
       "    .dataframe thead th {\n",
       "        text-align: right;\n",
       "    }\n",
       "</style>\n",
       "<table border=\"1\" class=\"dataframe\">\n",
       "  <thead>\n",
       "    <tr style=\"text-align: right;\">\n",
       "      <th></th>\n",
       "      <th>agreement_rk</th>\n",
       "      <th>id_client</th>\n",
       "      <th>target</th>\n",
       "      <th>personal_income</th>\n",
       "      <th>age</th>\n",
       "      <th>gender</th>\n",
       "      <th>child_total</th>\n",
       "      <th>dependants</th>\n",
       "      <th>socstatus_work_fl</th>\n",
       "      <th>socstatus_pens_fl</th>\n",
       "      <th>loan_num_total</th>\n",
       "      <th>loan_num_closed</th>\n",
       "    </tr>\n",
       "  </thead>\n",
       "  <tbody>\n",
       "    <tr>\n",
       "      <th>count</th>\n",
       "      <td>1.522300e+04</td>\n",
       "      <td>1.522300e+04</td>\n",
       "      <td>15223.000000</td>\n",
       "      <td>15223.000000</td>\n",
       "      <td>15223.000000</td>\n",
       "      <td>15223.000000</td>\n",
       "      <td>15223.000000</td>\n",
       "      <td>15223.000000</td>\n",
       "      <td>15223.000000</td>\n",
       "      <td>15223.000000</td>\n",
       "      <td>15223.000000</td>\n",
       "      <td>15223.000000</td>\n",
       "    </tr>\n",
       "    <tr>\n",
       "      <th>mean</th>\n",
       "      <td>6.540183e+07</td>\n",
       "      <td>1.068120e+08</td>\n",
       "      <td>0.119030</td>\n",
       "      <td>13853.836323</td>\n",
       "      <td>40.406096</td>\n",
       "      <td>0.654536</td>\n",
       "      <td>1.099389</td>\n",
       "      <td>0.645208</td>\n",
       "      <td>1.909610</td>\n",
       "      <td>1.134468</td>\n",
       "      <td>1.387769</td>\n",
       "      <td>0.751889</td>\n",
       "    </tr>\n",
       "    <tr>\n",
       "      <th>std</th>\n",
       "      <td>4.568181e+06</td>\n",
       "      <td>4.394646e+03</td>\n",
       "      <td>0.323835</td>\n",
       "      <td>9015.467617</td>\n",
       "      <td>11.601068</td>\n",
       "      <td>0.475535</td>\n",
       "      <td>0.995411</td>\n",
       "      <td>0.812252</td>\n",
       "      <td>0.286748</td>\n",
       "      <td>0.341165</td>\n",
       "      <td>0.793566</td>\n",
       "      <td>0.988499</td>\n",
       "    </tr>\n",
       "    <tr>\n",
       "      <th>min</th>\n",
       "      <td>5.991015e+07</td>\n",
       "      <td>1.068044e+08</td>\n",
       "      <td>0.000000</td>\n",
       "      <td>24.000000</td>\n",
       "      <td>21.000000</td>\n",
       "      <td>0.000000</td>\n",
       "      <td>0.000000</td>\n",
       "      <td>0.000000</td>\n",
       "      <td>1.000000</td>\n",
       "      <td>1.000000</td>\n",
       "      <td>1.000000</td>\n",
       "      <td>0.000000</td>\n",
       "    </tr>\n",
       "    <tr>\n",
       "      <th>25%</th>\n",
       "      <td>6.192092e+07</td>\n",
       "      <td>1.068082e+08</td>\n",
       "      <td>0.000000</td>\n",
       "      <td>8000.000000</td>\n",
       "      <td>30.000000</td>\n",
       "      <td>0.000000</td>\n",
       "      <td>0.000000</td>\n",
       "      <td>0.000000</td>\n",
       "      <td>2.000000</td>\n",
       "      <td>1.000000</td>\n",
       "      <td>1.000000</td>\n",
       "      <td>0.000000</td>\n",
       "    </tr>\n",
       "    <tr>\n",
       "      <th>50%</th>\n",
       "      <td>6.437100e+07</td>\n",
       "      <td>1.068120e+08</td>\n",
       "      <td>0.000000</td>\n",
       "      <td>12000.000000</td>\n",
       "      <td>39.000000</td>\n",
       "      <td>1.000000</td>\n",
       "      <td>1.000000</td>\n",
       "      <td>0.000000</td>\n",
       "      <td>2.000000</td>\n",
       "      <td>1.000000</td>\n",
       "      <td>1.000000</td>\n",
       "      <td>0.000000</td>\n",
       "    </tr>\n",
       "    <tr>\n",
       "      <th>75%</th>\n",
       "      <td>6.708802e+07</td>\n",
       "      <td>1.068158e+08</td>\n",
       "      <td>0.000000</td>\n",
       "      <td>17000.000000</td>\n",
       "      <td>50.000000</td>\n",
       "      <td>1.000000</td>\n",
       "      <td>2.000000</td>\n",
       "      <td>1.000000</td>\n",
       "      <td>2.000000</td>\n",
       "      <td>1.000000</td>\n",
       "      <td>2.000000</td>\n",
       "      <td>1.000000</td>\n",
       "    </tr>\n",
       "    <tr>\n",
       "      <th>max</th>\n",
       "      <td>7.529224e+07</td>\n",
       "      <td>1.068196e+08</td>\n",
       "      <td>1.000000</td>\n",
       "      <td>250000.000000</td>\n",
       "      <td>67.000000</td>\n",
       "      <td>1.000000</td>\n",
       "      <td>10.000000</td>\n",
       "      <td>7.000000</td>\n",
       "      <td>2.000000</td>\n",
       "      <td>2.000000</td>\n",
       "      <td>11.000000</td>\n",
       "      <td>11.000000</td>\n",
       "    </tr>\n",
       "  </tbody>\n",
       "</table>\n",
       "</div>"
      ],
      "text/plain": [
       "       agreement_rk     id_client        target  personal_income  \\\n",
       "count  1.522300e+04  1.522300e+04  15223.000000     15223.000000   \n",
       "mean   6.540183e+07  1.068120e+08      0.119030     13853.836323   \n",
       "std    4.568181e+06  4.394646e+03      0.323835      9015.467617   \n",
       "min    5.991015e+07  1.068044e+08      0.000000        24.000000   \n",
       "25%    6.192092e+07  1.068082e+08      0.000000      8000.000000   \n",
       "50%    6.437100e+07  1.068120e+08      0.000000     12000.000000   \n",
       "75%    6.708802e+07  1.068158e+08      0.000000     17000.000000   \n",
       "max    7.529224e+07  1.068196e+08      1.000000    250000.000000   \n",
       "\n",
       "                age        gender   child_total    dependants  \\\n",
       "count  15223.000000  15223.000000  15223.000000  15223.000000   \n",
       "mean      40.406096      0.654536      1.099389      0.645208   \n",
       "std       11.601068      0.475535      0.995411      0.812252   \n",
       "min       21.000000      0.000000      0.000000      0.000000   \n",
       "25%       30.000000      0.000000      0.000000      0.000000   \n",
       "50%       39.000000      1.000000      1.000000      0.000000   \n",
       "75%       50.000000      1.000000      2.000000      1.000000   \n",
       "max       67.000000      1.000000     10.000000      7.000000   \n",
       "\n",
       "       socstatus_work_fl  socstatus_pens_fl  loan_num_total  loan_num_closed  \n",
       "count       15223.000000       15223.000000    15223.000000     15223.000000  \n",
       "mean            1.909610           1.134468        1.387769         0.751889  \n",
       "std             0.286748           0.341165        0.793566         0.988499  \n",
       "min             1.000000           1.000000        1.000000         0.000000  \n",
       "25%             2.000000           1.000000        1.000000         0.000000  \n",
       "50%             2.000000           1.000000        1.000000         0.000000  \n",
       "75%             2.000000           1.000000        2.000000         1.000000  \n",
       "max             2.000000           2.000000       11.000000        11.000000  "
      ]
     },
     "execution_count": 4,
     "metadata": {},
     "output_type": "execute_result"
    }
   ],
   "source": [
    "df.describe()"
   ]
  },
  {
   "cell_type": "code",
   "execution_count": 5,
   "metadata": {},
   "outputs": [
    {
     "data": {
      "image/png": "[encoded data removed]",
      "text/plain": [
       "<Figure size 1000x600 with 2 Axes>"
      ]
     },
     "metadata": {},
     "output_type": "display_data"
    }
   ],
   "source": [
    "# Матрица корреляций.\n",
    "# Целевая переменная ни с чем не коррелирует.\n",
    "# Высокую корреляцию имеют id-признаки (перед моделированием их удалим) и признаки \"общее количество ссуд\", \"количество закрытых ссуд\".\n",
    "\n",
    "plt.figure(figsize=(10, 6))\n",
    "\n",
    "columns = df.corr().columns.tolist()\n",
    "plt.imshow(df.corr())\n",
    "\n",
    "plt.title(\"Корреляция численных признаков\")\n",
    "plt.xticks(range(0, len(columns)), columns, rotation=90)\n",
    "plt.yticks(range(0, len(columns)), columns)\n",
    "plt.colorbar()\n",
    "plt.show()"
   ]
  },
  {
   "cell_type": "code",
   "execution_count": 6,
   "metadata": {},
   "outputs": [
    {
     "data": {
      "text/plain": [
       "0.0    13411\n",
       "1.0     1812\n",
       "Name: target, dtype: int64"
      ]
     },
     "execution_count": 6,
     "metadata": {},
     "output_type": "execute_result"
    }
   ],
   "source": [
    "# Вывод значений целевой переменной и их количества.\n",
    "# Видим, что классы несбалансированы.\n",
    "df.target.value_counts()"
   ]
  },
  {
   "cell_type": "code",
   "execution_count": 7,
   "metadata": {},
   "outputs": [
    {
     "name": "stdout",
     "output_type": "stream",
     "text": [
      "Отклик на маркетинговую компанию:  11.9 %\n"
     ]
    }
   ],
   "source": [
    "# Выведем процент отклика на маркетинговую компанию, который понадобиться в дальнейшем для анализа признаков и зависимостей.\n",
    "print('Отклик на маркетинговую компанию: ', round(((len(df[df['target'] == 1]) / len(df)) * 100), 2), '%')"
   ]
  },
  {
   "cell_type": "code",
   "execution_count": 8,
   "metadata": {},
   "outputs": [
    {
     "name": "stdout",
     "output_type": "stream",
     "text": [
      "Характеристика: age \n",
      "Количество уникальных значений: 47 \n",
      "Список значений: \n",
      "27.0    485\n",
      "26.0    480\n",
      "33.0    461\n",
      "31.0    461\n",
      "30.0    460\n",
      "34.0    455\n",
      "35.0    442\n",
      "24.0    437\n",
      "32.0    435\n",
      "25.0    430\n",
      "38.0    429\n",
      "29.0    427\n",
      "37.0    420\n",
      "39.0    415\n",
      "28.0    414\n",
      "40.0    406\n",
      "23.0    380\n",
      "36.0    376\n",
      "42.0    373\n",
      "44.0    363\n",
      "41.0    363\n",
      "45.0    358\n",
      "48.0    358\n",
      "50.0    352\n",
      "51.0    349\n",
      "52.0    349\n",
      "49.0    348\n",
      "53.0    339\n",
      "43.0    335\n",
      "56.0    334\n",
      "47.0    320\n",
      "46.0    313\n",
      "54.0    295\n",
      "22.0    292\n",
      "55.0    289\n",
      "57.0    283\n",
      "58.0    276\n",
      "59.0    216\n",
      "61.0    212\n",
      "60.0    206\n",
      "62.0    148\n",
      "63.0    138\n",
      "64.0    127\n",
      "65.0     43\n",
      "66.0     17\n",
      "21.0     13\n",
      "67.0      1\n",
      "Name: age, dtype: int64 \n",
      "\n",
      "Характеристика: gender \n",
      "Количество уникальных значений: 2 \n",
      "Список значений: \n",
      "1.0    9964\n",
      "0.0    5259\n",
      "Name: gender, dtype: int64 \n",
      "\n",
      "Характеристика: child_total \n",
      "Количество уникальных значений: 10 \n",
      "Список значений: \n",
      "1.0     5087\n",
      "0.0     4984\n",
      "2.0     4140\n",
      "3.0      799\n",
      "4.0      133\n",
      "5.0       59\n",
      "6.0       12\n",
      "7.0        5\n",
      "10.0       3\n",
      "8.0        1\n",
      "Name: child_total, dtype: int64 \n",
      "\n",
      "Характеристика: dependants \n",
      "Количество уникальных значений: 8 \n",
      "Список значений: \n",
      "0.0    8226\n",
      "1.0    4535\n",
      "2.0    2167\n",
      "3.0     243\n",
      "4.0      42\n",
      "5.0       5\n",
      "6.0       4\n",
      "7.0       1\n",
      "Name: dependants, dtype: int64 \n",
      "\n",
      "Характеристика: socstatus_work_fl \n",
      "Количество уникальных значений: 2 \n",
      "Список значений: \n",
      "2.0    13847\n",
      "1.0     1376\n",
      "Name: socstatus_work_fl, dtype: int64 \n",
      "\n",
      "Характеристика: socstatus_pens_fl \n",
      "Количество уникальных значений: 2 \n",
      "Список значений: \n",
      "1.0    13176\n",
      "2.0     2047\n",
      "Name: socstatus_pens_fl, dtype: int64 \n",
      "\n",
      "Характеристика: loan_num_total \n",
      "Количество уникальных значений: 9 \n",
      "Список значений: \n",
      "1     11288\n",
      "2      2633\n",
      "3       871\n",
      "4       275\n",
      "5       102\n",
      "6        36\n",
      "7        14\n",
      "8         3\n",
      "11        1\n",
      "Name: loan_num_total, dtype: int64 \n",
      "\n",
      "Характеристика: loan_num_closed \n",
      "Количество уникальных значений: 10 \n",
      "Список значений: \n",
      "0.0     7791\n",
      "1.0     4761\n",
      "2.0     1770\n",
      "3.0      603\n",
      "4.0      202\n",
      "5.0       62\n",
      "6.0       26\n",
      "7.0        5\n",
      "8.0        2\n",
      "11.0       1\n",
      "Name: loan_num_closed, dtype: int64 \n",
      "\n"
     ]
    }
   ],
   "source": [
    "# Вывод количества уникальных значений признаков и их частот для более детального анализа.\n",
    "for column in ['age','gender','child_total','dependants','socstatus_work_fl','socstatus_pens_fl','loan_num_total','loan_num_closed']:    \n",
    "    column_name = df[column]\n",
    "    print(f\"Характеристика: {column} \\nКоличество уникальных значений: {column_name.nunique()} \\nСписок значений: \\n{column_name.value_counts()} \\n\")"
   ]
  },
  {
   "cell_type": "markdown",
   "metadata": {},
   "source": [
    "## Обработка аномалий"
   ]
  },
  {
   "cell_type": "code",
   "execution_count": 9,
   "metadata": {},
   "outputs": [
    {
     "data": {
      "image/png": "[encoded data removed]",
      "text/plain": [
       "<Figure size 800x500 with 1 Axes>"
      ]
     },
     "metadata": {},
     "output_type": "display_data"
    }
   ],
   "source": [
    "# Согласно графику, в признаке \"personal_income\" есть выбросы.\n",
    "plt.figure(figsize=(8, 5))\n",
    "plt.hist(df.personal_income, bins=100)\n",
    "plt.xlabel('Личный доход')\n",
    "plt.ylabel('Частота')\n",
    "plt.title('Распределение сумм личного дохода');"
   ]
  },
  {
   "cell_type": "code",
   "execution_count": 10,
   "metadata": {},
   "outputs": [],
   "source": [
    "# Функция \"межквартильного интервала\" для обнаружения выбросов.\n",
    "def calculate_outliers(data):\n",
    "    q25 = data.quantile(0.25)\n",
    "    q75 = data.quantile(0.75)\n",
    "    iqr = q75 - q25\n",
    "    boundaries = (q25 - 1.5 * iqr, q75 + 1.5 * iqr)\n",
    "\n",
    "    return boundaries"
   ]
  },
  {
   "cell_type": "code",
   "execution_count": 11,
   "metadata": {},
   "outputs": [
    {
     "data": {
      "text/plain": [
       "(-5500.0, 30500.0)"
      ]
     },
     "execution_count": 11,
     "metadata": {},
     "output_type": "execute_result"
    }
   ],
   "source": [
    "# Границы интревала.\n",
    "boundaries = calculate_outliers(df['personal_income'])\n",
    "boundaries"
   ]
  },
  {
   "cell_type": "code",
   "execution_count": 12,
   "metadata": {},
   "outputs": [
    {
     "data": {
      "text/plain": [
       "483"
      ]
     },
     "execution_count": 12,
     "metadata": {},
     "output_type": "execute_result"
    }
   ],
   "source": [
    "# Количество объектов, выходящих за верхнюю границу интервала.\n",
    "is_outlier = (df['personal_income'] > boundaries[1])\n",
    "is_outlier.sum()"
   ]
  },
  {
   "cell_type": "code",
   "execution_count": 13,
   "metadata": {},
   "outputs": [],
   "source": [
    "# Присвоение таким объектам верхней границы интервала.\n",
    "df.loc[is_outlier, 'personal_income'] = int(boundaries[1])"
   ]
  },
  {
   "cell_type": "code",
   "execution_count": 14,
   "metadata": {},
   "outputs": [
    {
     "data": {
      "text/plain": [
       "3491      24.0\n",
       "9091    1950.0\n",
       "9842    2000.0\n",
       "4081    2000.0\n",
       "5222    2100.0\n",
       "Name: personal_income, dtype: float64"
      ]
     },
     "execution_count": 14,
     "metadata": {},
     "output_type": "execute_result"
    }
   ],
   "source": [
    "# Также видим одно маленькое аномальное значение, которое не выбилось за границы интервала, но которое нужно обработать.\n",
    "df.personal_income.sort_values().head()"
   ]
  },
  {
   "cell_type": "code",
   "execution_count": 15,
   "metadata": {},
   "outputs": [
    {
     "data": {
      "text/html": [
       "<div>\n",
       "<style scoped>\n",
       "    .dataframe tbody tr th:only-of-type {\n",
       "        vertical-align: middle;\n",
       "    }\n",
       "\n",
       "    .dataframe tbody tr th {\n",
       "        vertical-align: top;\n",
       "    }\n",
       "\n",
       "    .dataframe thead th {\n",
       "        text-align: right;\n",
       "    }\n",
       "</style>\n",
       "<table border=\"1\" class=\"dataframe\">\n",
       "  <thead>\n",
       "    <tr style=\"text-align: right;\">\n",
       "      <th></th>\n",
       "      <th>agreement_rk</th>\n",
       "      <th>id_client</th>\n",
       "      <th>target</th>\n",
       "      <th>personal_income</th>\n",
       "      <th>age</th>\n",
       "      <th>gender</th>\n",
       "      <th>child_total</th>\n",
       "      <th>dependants</th>\n",
       "      <th>socstatus_work_fl</th>\n",
       "      <th>socstatus_pens_fl</th>\n",
       "      <th>loan_num_total</th>\n",
       "      <th>loan_num_closed</th>\n",
       "    </tr>\n",
       "  </thead>\n",
       "  <tbody>\n",
       "    <tr>\n",
       "      <th>3491</th>\n",
       "      <td>61534026.0</td>\n",
       "      <td>106807861.0</td>\n",
       "      <td>0.0</td>\n",
       "      <td>24.0</td>\n",
       "      <td>28.0</td>\n",
       "      <td>0.0</td>\n",
       "      <td>1.0</td>\n",
       "      <td>1.0</td>\n",
       "      <td>2.0</td>\n",
       "      <td>1.0</td>\n",
       "      <td>1</td>\n",
       "      <td>0.0</td>\n",
       "    </tr>\n",
       "  </tbody>\n",
       "</table>\n",
       "</div>"
      ],
      "text/plain": [
       "      agreement_rk    id_client  target  personal_income   age  gender  \\\n",
       "3491    61534026.0  106807861.0     0.0             24.0  28.0     0.0   \n",
       "\n",
       "      child_total  dependants  socstatus_work_fl  socstatus_pens_fl  \\\n",
       "3491          1.0         1.0                2.0                1.0   \n",
       "\n",
       "      loan_num_total  loan_num_closed  \n",
       "3491               1              0.0  "
      ]
     },
     "execution_count": 15,
     "metadata": {},
     "output_type": "execute_result"
    }
   ],
   "source": [
    "# Объект имеет статус \"работает\", но значение дохода явно ошибочное.\n",
    "df[(df['personal_income'] == 24)]"
   ]
  },
  {
   "cell_type": "code",
   "execution_count": 16,
   "metadata": {},
   "outputs": [],
   "source": [
    "# Заменим значение \"24\" на среднее по колонке \"personal_income\".\n",
    "df.loc[(df['personal_income'] == 24),'personal_income'] = df.personal_income.mean()"
   ]
  },
  {
   "cell_type": "code",
   "execution_count": 17,
   "metadata": {},
   "outputs": [
    {
     "data": {
      "text/plain": [
       "count    15223.000000\n",
       "mean     13409.255385\n",
       "std       6693.784633\n",
       "min       1950.000000\n",
       "25%       8000.000000\n",
       "50%      12000.000000\n",
       "75%      17000.000000\n",
       "max      30500.000000\n",
       "Name: personal_income, dtype: float64"
      ]
     },
     "execution_count": 17,
     "metadata": {},
     "output_type": "execute_result"
    }
   ],
   "source": [
    "# Убедимся, что преобразования сработали.\n",
    "df['personal_income'].describe()"
   ]
  },
  {
   "cell_type": "code",
   "execution_count": 18,
   "metadata": {},
   "outputs": [],
   "source": [
    "# Редко встречающиеся значения некоторых количественных признаков объединим в одно значение.\n",
    "# Это преобразование поможет избежать шума и выбросов, к которым метод \"ближайших соседей\" очень чувствителен.\n",
    "\n",
    "# В признаке \"количество детей\" значения 6,7,8,10 (таких значений в датасете мало) заменим на 5.\n",
    "df['child_total'] = df['child_total'].replace([6,7,8,9,10],[5,5,5,5,5])\n",
    "\n",
    "# В признаке \"количество иждивенцев\" значения 5,6,7 заменим на 4.\n",
    "df['dependants'] = df['dependants'].replace([5,6,7],[4,4,4])\n",
    "\n",
    "# В признаке \"количество ссуд\" значения 6,7,8,11 заменим на 5.\n",
    "df['loan_num_total'] = df['loan_num_total'].replace([6,7,8,11],[5,5,5,5])\n",
    "\n",
    "# В признаке \"количество погашенных ссуд\" значения 6,7,8,11 заменим на 5.\n",
    "df['loan_num_closed'] = df['loan_num_closed'].replace([6,7,8,11],[5,5,5,5])"
   ]
  },
  {
   "cell_type": "markdown",
   "metadata": {},
   "source": [
    "#### Преобразование типов признаков"
   ]
  },
  {
   "cell_type": "code",
   "execution_count": 19,
   "metadata": {},
   "outputs": [],
   "source": [
    "# Принимаем решение некоторые изначально числовые признаки преобразовать в категориальные.\n",
    "\n",
    "# В признаке \"рабочий статус\" значения 1 и 2 заменим соответственно на 'No' (не работает) и 'Yes' (работает).\n",
    "df['socstatus_work_fl'] = df['socstatus_work_fl'].replace([1,2],['No','Yes'])\n",
    "\n",
    "# В признаке \"пенсионный статус\" значения 1 и 2 заменим соответственно на 'No' (не на пенсии) и 'Yes' (на пенсии).\n",
    "df['socstatus_pens_fl'] = df['socstatus_pens_fl'].replace([1,2],['No','Yes'])\n",
    "\n",
    "# В признаке \"пол\" значения 1 и 0 заменим соответственно на 'Men' и 'Women'.\n",
    "df['gender'] = df['gender'].replace([1,0],['Men','Women'])"
   ]
  },
  {
   "cell_type": "code",
   "execution_count": 20,
   "metadata": {},
   "outputs": [
    {
     "name": "stdout",
     "output_type": "stream",
     "text": [
      "<class 'pandas.core.frame.DataFrame'>\n",
      "RangeIndex: 15223 entries, 0 to 15222\n",
      "Data columns (total 12 columns):\n",
      " #   Column             Non-Null Count  Dtype  \n",
      "---  ------             --------------  -----  \n",
      " 0   agreement_rk       15223 non-null  float64\n",
      " 1   id_client          15223 non-null  float64\n",
      " 2   target             15223 non-null  float64\n",
      " 3   personal_income    15223 non-null  float64\n",
      " 4   age                15223 non-null  float64\n",
      " 5   gender             15223 non-null  object \n",
      " 6   child_total        15223 non-null  float64\n",
      " 7   dependants         15223 non-null  float64\n",
      " 8   socstatus_work_fl  15223 non-null  object \n",
      " 9   socstatus_pens_fl  15223 non-null  object \n",
      " 10  loan_num_total     15223 non-null  int64  \n",
      " 11  loan_num_closed    15223 non-null  float64\n",
      "dtypes: float64(8), int64(1), object(3)\n",
      "memory usage: 1.4+ MB\n"
     ]
    }
   ],
   "source": [
    "df.info()"
   ]
  },
  {
   "cell_type": "markdown",
   "metadata": {},
   "source": [
    "## Анализ зависимости целевой переменной от признаков"
   ]
  },
  {
   "cell_type": "markdown",
   "metadata": {},
   "source": [
    "#### Зависимость от личного дохода"
   ]
  },
  {
   "cell_type": "code",
   "execution_count": 21,
   "metadata": {},
   "outputs": [
    {
     "data": {
      "text/plain": [
       "0          2-8\n",
       "1         8-12\n",
       "2         8-12\n",
       "3        17-30\n",
       "4         8-12\n",
       "         ...  \n",
       "15218     8-12\n",
       "15219     8-12\n",
       "15220      2-8\n",
       "15221      2-8\n",
       "15222    17-30\n",
       "Name: income_interval, Length: 15223, dtype: object"
      ]
     },
     "execution_count": 21,
     "metadata": {},
     "output_type": "execute_result"
    }
   ],
   "source": [
    "# Создание вспомогательного признака, разделением дохода клиентов на интервалы.\n",
    "# В качестве границ интервалов возьмем 25,50 и 75 квантили.\n",
    "df['income_interval'] =  df.apply(lambda x: \"17-30\" if x.personal_income > 17000 \n",
    "                                  else (\"12-17\" if 12000 < x.personal_income <= 17000 \n",
    "                                        else (\"8-12\" if 8000 < x.personal_income <= 12000 else \"2-8\" )), axis=1)\n",
    "df['income_interval']"
   ]
  },
  {
   "cell_type": "code",
   "execution_count": 22,
   "metadata": {},
   "outputs": [
    {
     "data": {
      "text/html": [
       "<div>\n",
       "<style scoped>\n",
       "    .dataframe tbody tr th:only-of-type {\n",
       "        vertical-align: middle;\n",
       "    }\n",
       "\n",
       "    .dataframe tbody tr th {\n",
       "        vertical-align: top;\n",
       "    }\n",
       "\n",
       "    .dataframe thead th {\n",
       "        text-align: right;\n",
       "    }\n",
       "</style>\n",
       "<table border=\"1\" class=\"dataframe\">\n",
       "  <thead>\n",
       "    <tr style=\"text-align: right;\">\n",
       "      <th></th>\n",
       "      <th>income_interval</th>\n",
       "      <th>target_all</th>\n",
       "    </tr>\n",
       "  </thead>\n",
       "  <tbody>\n",
       "    <tr>\n",
       "      <th>0</th>\n",
       "      <td>12-17</td>\n",
       "      <td>3345</td>\n",
       "    </tr>\n",
       "    <tr>\n",
       "      <th>1</th>\n",
       "      <td>17-30</td>\n",
       "      <td>3507</td>\n",
       "    </tr>\n",
       "    <tr>\n",
       "      <th>2</th>\n",
       "      <td>2-8</td>\n",
       "      <td>3952</td>\n",
       "    </tr>\n",
       "    <tr>\n",
       "      <th>3</th>\n",
       "      <td>8-12</td>\n",
       "      <td>4419</td>\n",
       "    </tr>\n",
       "  </tbody>\n",
       "</table>\n",
       "</div>"
      ],
      "text/plain": [
       "  income_interval  target_all\n",
       "0           12-17        3345\n",
       "1           17-30        3507\n",
       "2             2-8        3952\n",
       "3            8-12        4419"
      ]
     },
     "execution_count": 22,
     "metadata": {},
     "output_type": "execute_result"
    }
   ],
   "source": [
    "# Датафрейм с количеством компаний, сгруппированных по 'income_interval'.\n",
    "stats = df.groupby(['income_interval'], as_index=False)[['target']].count()\n",
    "stats = stats.rename(columns={'target':'target_all'})\n",
    "stats"
   ]
  },
  {
   "cell_type": "code",
   "execution_count": 23,
   "metadata": {},
   "outputs": [
    {
     "data": {
      "text/html": [
       "<div>\n",
       "<style scoped>\n",
       "    .dataframe tbody tr th:only-of-type {\n",
       "        vertical-align: middle;\n",
       "    }\n",
       "\n",
       "    .dataframe tbody tr th {\n",
       "        vertical-align: top;\n",
       "    }\n",
       "\n",
       "    .dataframe thead th {\n",
       "        text-align: right;\n",
       "    }\n",
       "</style>\n",
       "<table border=\"1\" class=\"dataframe\">\n",
       "  <thead>\n",
       "    <tr style=\"text-align: right;\">\n",
       "      <th></th>\n",
       "      <th>income_interval</th>\n",
       "      <th>target_all</th>\n",
       "      <th>target=1</th>\n",
       "      <th>target%</th>\n",
       "    </tr>\n",
       "  </thead>\n",
       "  <tbody>\n",
       "    <tr>\n",
       "      <th>2</th>\n",
       "      <td>2-8</td>\n",
       "      <td>3952</td>\n",
       "      <td>323</td>\n",
       "      <td>8.2</td>\n",
       "    </tr>\n",
       "    <tr>\n",
       "      <th>3</th>\n",
       "      <td>8-12</td>\n",
       "      <td>4419</td>\n",
       "      <td>473</td>\n",
       "      <td>10.7</td>\n",
       "    </tr>\n",
       "    <tr>\n",
       "      <th>0</th>\n",
       "      <td>12-17</td>\n",
       "      <td>3345</td>\n",
       "      <td>439</td>\n",
       "      <td>13.1</td>\n",
       "    </tr>\n",
       "    <tr>\n",
       "      <th>1</th>\n",
       "      <td>17-30</td>\n",
       "      <td>3507</td>\n",
       "      <td>577</td>\n",
       "      <td>16.5</td>\n",
       "    </tr>\n",
       "  </tbody>\n",
       "</table>\n",
       "</div>"
      ],
      "text/plain": [
       "  income_interval  target_all  target=1  target%\n",
       "2             2-8        3952       323      8.2\n",
       "3            8-12        4419       473     10.7\n",
       "0           12-17        3345       439     13.1\n",
       "1           17-30        3507       577     16.5"
      ]
     },
     "execution_count": 23,
     "metadata": {},
     "output_type": "execute_result"
    }
   ],
   "source": [
    "# Создание колонки с количеством компаний, получивших отклик, в зависимости от 'income_interval'.\n",
    "stats['target=1'] = stats.income_interval.apply(lambda x: len(df[(df['income_interval'] == x) & (df['target'] == 1)]))\n",
    "stats['target%'] = round(((stats['target=1'] / stats['target_all'])*100), 1)\n",
    "stats = stats.sort_values(by='target%')\n",
    "stats"
   ]
  },
  {
   "cell_type": "code",
   "execution_count": 24,
   "metadata": {},
   "outputs": [
    {
     "data": {
      "image/png": "[encoded data removed]",
      "text/plain": [
       "<Figure size 1200x400 with 3 Axes>"
      ]
     },
     "metadata": {},
     "output_type": "display_data"
    }
   ],
   "source": [
    "fig, (ax1, ax2, ax3) = plt.subplots(nrows=1, ncols=3, figsize=(12, 4), sharex=True)\n",
    "\n",
    "ax1.bar(stats['income_interval'], stats['target_all'], width=0.9, color='red')\n",
    "ax1.set_title('Все компании')\n",
    "ax1.set_xlabel('доход в тысячах')\n",
    "\n",
    "ax2.bar(stats['income_interval'], stats['target=1'], width=0.9, color='green')\n",
    "ax2.set_title('Отклик')\n",
    "ax2.set_xlabel('доход в тысячах')\n",
    "\n",
    "ax3.bar(stats['income_interval'], stats['target%'], width=0.9, color='blue')\n",
    "ax3.set_title('Процент отклика')\n",
    "ax3.set_xlabel('доход в тысячах')\n",
    "\n",
    "fig.suptitle('Распределение маркетинговых компаний по размеру дохода клиента', fontsize='x-large');"
   ]
  },
  {
   "cell_type": "raw",
   "metadata": {},
   "source": [
    "Очевидная зависимость: чем выше доход клиента, тем выше процент отклика."
   ]
  },
  {
   "cell_type": "markdown",
   "metadata": {},
   "source": [
    "#### Зависимость от пола клиента"
   ]
  },
  {
   "cell_type": "code",
   "execution_count": 25,
   "metadata": {},
   "outputs": [
    {
     "data": {
      "text/html": [
       "<div>\n",
       "<style scoped>\n",
       "    .dataframe tbody tr th:only-of-type {\n",
       "        vertical-align: middle;\n",
       "    }\n",
       "\n",
       "    .dataframe tbody tr th {\n",
       "        vertical-align: top;\n",
       "    }\n",
       "\n",
       "    .dataframe thead th {\n",
       "        text-align: right;\n",
       "    }\n",
       "</style>\n",
       "<table border=\"1\" class=\"dataframe\">\n",
       "  <thead>\n",
       "    <tr style=\"text-align: right;\">\n",
       "      <th></th>\n",
       "      <th>gender</th>\n",
       "      <th>target_all</th>\n",
       "    </tr>\n",
       "  </thead>\n",
       "  <tbody>\n",
       "    <tr>\n",
       "      <th>0</th>\n",
       "      <td>Men</td>\n",
       "      <td>9964</td>\n",
       "    </tr>\n",
       "    <tr>\n",
       "      <th>1</th>\n",
       "      <td>Women</td>\n",
       "      <td>5259</td>\n",
       "    </tr>\n",
       "  </tbody>\n",
       "</table>\n",
       "</div>"
      ],
      "text/plain": [
       "  gender  target_all\n",
       "0    Men        9964\n",
       "1  Women        5259"
      ]
     },
     "execution_count": 25,
     "metadata": {},
     "output_type": "execute_result"
    }
   ],
   "source": [
    "# Датафрейм с количеством маркетинговых компаний, сгруппированных по полу клиента.\n",
    "stats = df.groupby(['gender'], as_index=False)[['target']].count()\n",
    "stats = stats.rename(columns={'target':'target_all'})\n",
    "stats"
   ]
  },
  {
   "cell_type": "code",
   "execution_count": 26,
   "metadata": {},
   "outputs": [],
   "source": [
    "# Создание колонки с количеством маркетинговых компаний, получивших отклик.\n",
    "stats['target=1'] = stats.gender.apply(lambda x: len(df[(df['gender'] == x) & (df['target'] == 1)]))"
   ]
  },
  {
   "cell_type": "code",
   "execution_count": 27,
   "metadata": {},
   "outputs": [
    {
     "data": {
      "text/html": [
       "<div>\n",
       "<style scoped>\n",
       "    .dataframe tbody tr th:only-of-type {\n",
       "        vertical-align: middle;\n",
       "    }\n",
       "\n",
       "    .dataframe tbody tr th {\n",
       "        vertical-align: top;\n",
       "    }\n",
       "\n",
       "    .dataframe thead th {\n",
       "        text-align: right;\n",
       "    }\n",
       "</style>\n",
       "<table border=\"1\" class=\"dataframe\">\n",
       "  <thead>\n",
       "    <tr style=\"text-align: right;\">\n",
       "      <th></th>\n",
       "      <th>gender</th>\n",
       "      <th>target_all</th>\n",
       "      <th>target=1</th>\n",
       "      <th>target%</th>\n",
       "    </tr>\n",
       "  </thead>\n",
       "  <tbody>\n",
       "    <tr>\n",
       "      <th>0</th>\n",
       "      <td>Men</td>\n",
       "      <td>9964</td>\n",
       "      <td>1114</td>\n",
       "      <td>11.2</td>\n",
       "    </tr>\n",
       "    <tr>\n",
       "      <th>1</th>\n",
       "      <td>Women</td>\n",
       "      <td>5259</td>\n",
       "      <td>698</td>\n",
       "      <td>13.3</td>\n",
       "    </tr>\n",
       "  </tbody>\n",
       "</table>\n",
       "</div>"
      ],
      "text/plain": [
       "  gender  target_all  target=1  target%\n",
       "0    Men        9964      1114     11.2\n",
       "1  Women        5259       698     13.3"
      ]
     },
     "execution_count": 27,
     "metadata": {},
     "output_type": "execute_result"
    }
   ],
   "source": [
    "# Создание колонки с процентом конверсии.\n",
    "stats['target%'] = round(((stats['target=1'] / stats['target_all'])*100), 1)\n",
    "stats"
   ]
  },
  {
   "cell_type": "code",
   "execution_count": 28,
   "metadata": {},
   "outputs": [
    {
     "data": {
      "image/png": "[encoded data removed]",
      "text/plain": [
       "<Figure size 1200x400 with 3 Axes>"
      ]
     },
     "metadata": {},
     "output_type": "display_data"
    }
   ],
   "source": [
    "fig, (ax1, ax2, ax3) = plt.subplots(nrows=1, ncols=3, figsize=(12, 4), sharex=True)\n",
    "\n",
    "ax1.bar(stats['gender'], stats['target_all'], width=0.9, color='red')\n",
    "ax1.set_title('Все компании')\n",
    "\n",
    "ax2.bar(stats['gender'], stats['target=1'], width=0.9, color='green')\n",
    "ax2.set_title('Отклик')\n",
    "\n",
    "ax3.bar(stats['gender'], stats['target%'], width=0.9, color='blue')\n",
    "ax3.set_title('Процент отклика')\n",
    "\n",
    "fig.suptitle('Распределение маркетинговых компаний по полу клиента', fontsize='x-large');"
   ]
  },
  {
   "cell_type": "raw",
   "metadata": {},
   "source": [
    "Количество мужчин, как во всей выборке, так и откликнувшихся на предложение, больше. Но процент отклика у женщин выше на 2%."
   ]
  },
  {
   "cell_type": "markdown",
   "metadata": {},
   "source": [
    "#### Зависимость от количества детей"
   ]
  },
  {
   "cell_type": "code",
   "execution_count": 29,
   "metadata": {},
   "outputs": [
    {
     "data": {
      "text/html": [
       "<div>\n",
       "<style scoped>\n",
       "    .dataframe tbody tr th:only-of-type {\n",
       "        vertical-align: middle;\n",
       "    }\n",
       "\n",
       "    .dataframe tbody tr th {\n",
       "        vertical-align: top;\n",
       "    }\n",
       "\n",
       "    .dataframe thead th {\n",
       "        text-align: right;\n",
       "    }\n",
       "</style>\n",
       "<table border=\"1\" class=\"dataframe\">\n",
       "  <thead>\n",
       "    <tr style=\"text-align: right;\">\n",
       "      <th></th>\n",
       "      <th>child_total</th>\n",
       "      <th>target_all</th>\n",
       "    </tr>\n",
       "  </thead>\n",
       "  <tbody>\n",
       "    <tr>\n",
       "      <th>0</th>\n",
       "      <td>0.0</td>\n",
       "      <td>4984</td>\n",
       "    </tr>\n",
       "    <tr>\n",
       "      <th>1</th>\n",
       "      <td>1.0</td>\n",
       "      <td>5087</td>\n",
       "    </tr>\n",
       "    <tr>\n",
       "      <th>2</th>\n",
       "      <td>2.0</td>\n",
       "      <td>4140</td>\n",
       "    </tr>\n",
       "    <tr>\n",
       "      <th>3</th>\n",
       "      <td>3.0</td>\n",
       "      <td>799</td>\n",
       "    </tr>\n",
       "    <tr>\n",
       "      <th>4</th>\n",
       "      <td>4.0</td>\n",
       "      <td>133</td>\n",
       "    </tr>\n",
       "    <tr>\n",
       "      <th>5</th>\n",
       "      <td>5.0</td>\n",
       "      <td>80</td>\n",
       "    </tr>\n",
       "  </tbody>\n",
       "</table>\n",
       "</div>"
      ],
      "text/plain": [
       "   child_total  target_all\n",
       "0          0.0        4984\n",
       "1          1.0        5087\n",
       "2          2.0        4140\n",
       "3          3.0         799\n",
       "4          4.0         133\n",
       "5          5.0          80"
      ]
     },
     "execution_count": 29,
     "metadata": {},
     "output_type": "execute_result"
    }
   ],
   "source": [
    "# Датафрейм с количеством компаний, сгруппированных по количеству детей.\n",
    "stats = df.groupby(['child_total'], as_index=False)[['target']].count()\n",
    "stats = stats.rename(columns={'target':'target_all'})\n",
    "stats"
   ]
  },
  {
   "cell_type": "code",
   "execution_count": 30,
   "metadata": {},
   "outputs": [
    {
     "data": {
      "text/html": [
       "<div>\n",
       "<style scoped>\n",
       "    .dataframe tbody tr th:only-of-type {\n",
       "        vertical-align: middle;\n",
       "    }\n",
       "\n",
       "    .dataframe tbody tr th {\n",
       "        vertical-align: top;\n",
       "    }\n",
       "\n",
       "    .dataframe thead th {\n",
       "        text-align: right;\n",
       "    }\n",
       "</style>\n",
       "<table border=\"1\" class=\"dataframe\">\n",
       "  <thead>\n",
       "    <tr style=\"text-align: right;\">\n",
       "      <th></th>\n",
       "      <th>child_total</th>\n",
       "      <th>target_all</th>\n",
       "      <th>target=1</th>\n",
       "      <th>target%</th>\n",
       "    </tr>\n",
       "  </thead>\n",
       "  <tbody>\n",
       "    <tr>\n",
       "      <th>0</th>\n",
       "      <td>0.0</td>\n",
       "      <td>4984</td>\n",
       "      <td>590</td>\n",
       "      <td>11.8</td>\n",
       "    </tr>\n",
       "    <tr>\n",
       "      <th>1</th>\n",
       "      <td>1.0</td>\n",
       "      <td>5087</td>\n",
       "      <td>593</td>\n",
       "      <td>11.7</td>\n",
       "    </tr>\n",
       "    <tr>\n",
       "      <th>2</th>\n",
       "      <td>2.0</td>\n",
       "      <td>4140</td>\n",
       "      <td>484</td>\n",
       "      <td>11.7</td>\n",
       "    </tr>\n",
       "    <tr>\n",
       "      <th>3</th>\n",
       "      <td>3.0</td>\n",
       "      <td>799</td>\n",
       "      <td>111</td>\n",
       "      <td>13.9</td>\n",
       "    </tr>\n",
       "    <tr>\n",
       "      <th>4</th>\n",
       "      <td>4.0</td>\n",
       "      <td>133</td>\n",
       "      <td>21</td>\n",
       "      <td>15.8</td>\n",
       "    </tr>\n",
       "    <tr>\n",
       "      <th>5</th>\n",
       "      <td>5.0</td>\n",
       "      <td>80</td>\n",
       "      <td>13</td>\n",
       "      <td>16.2</td>\n",
       "    </tr>\n",
       "  </tbody>\n",
       "</table>\n",
       "</div>"
      ],
      "text/plain": [
       "   child_total  target_all  target=1  target%\n",
       "0          0.0        4984       590     11.8\n",
       "1          1.0        5087       593     11.7\n",
       "2          2.0        4140       484     11.7\n",
       "3          3.0         799       111     13.9\n",
       "4          4.0         133        21     15.8\n",
       "5          5.0          80        13     16.2"
      ]
     },
     "execution_count": 30,
     "metadata": {},
     "output_type": "execute_result"
    }
   ],
   "source": [
    "# Создание колонки с количеством компаний, получивших отклик, в зависимости от количества детей.\n",
    "stats['target=1'] = stats.child_total.apply(lambda x: len(df[(df['child_total'] == x) & (df['target'] == 1)]))\n",
    "stats['target%'] = round(((stats['target=1'] / stats['target_all'])*100), 1)\n",
    "stats"
   ]
  },
  {
   "cell_type": "code",
   "execution_count": 31,
   "metadata": {},
   "outputs": [
    {
     "data": {
      "image/png": "[encoded data removed]",
      "text/plain": [
       "<Figure size 1500x400 with 3 Axes>"
      ]
     },
     "metadata": {},
     "output_type": "display_data"
    }
   ],
   "source": [
    "fig, (ax1, ax2, ax3) = plt.subplots(nrows=1, ncols=3, figsize=(15, 4), sharex=True)\n",
    "\n",
    "ax1.bar(stats['child_total'], stats['target_all'], width=0.9, color='red')\n",
    "ax1.set_title('Все компании')\n",
    "\n",
    "ax2.bar(stats['child_total'], stats['target=1'], width=0.9, color='green')\n",
    "ax2.set_title('Отклик')\n",
    "\n",
    "ax3.bar(stats['child_total'], stats['target%'], width=0.9, color='blue')\n",
    "ax3.set_title('Процент отклика')\n",
    "\n",
    "fig.suptitle('Распределение маркетинговых компаний по количеству детей клиента', fontsize='x-large');"
   ]
  },
  {
   "cell_type": "raw",
   "metadata": {},
   "source": [
    "Количество клиентов с количеством детей больше двух невелико, что нормально, согласно демографической статистики. Но процент отклика на маркетинговую компанию у таких клиентов выше на несколько процентов. Напомним, средний процент отклика по всему датасету равен 11,9%."
   ]
  },
  {
   "cell_type": "markdown",
   "metadata": {},
   "source": [
    "#### Зависимость от количества иждивенцев"
   ]
  },
  {
   "cell_type": "code",
   "execution_count": 32,
   "metadata": {},
   "outputs": [
    {
     "data": {
      "text/html": [
       "<div>\n",
       "<style scoped>\n",
       "    .dataframe tbody tr th:only-of-type {\n",
       "        vertical-align: middle;\n",
       "    }\n",
       "\n",
       "    .dataframe tbody tr th {\n",
       "        vertical-align: top;\n",
       "    }\n",
       "\n",
       "    .dataframe thead th {\n",
       "        text-align: right;\n",
       "    }\n",
       "</style>\n",
       "<table border=\"1\" class=\"dataframe\">\n",
       "  <thead>\n",
       "    <tr style=\"text-align: right;\">\n",
       "      <th></th>\n",
       "      <th>dependants</th>\n",
       "      <th>target_all</th>\n",
       "    </tr>\n",
       "  </thead>\n",
       "  <tbody>\n",
       "    <tr>\n",
       "      <th>0</th>\n",
       "      <td>0.0</td>\n",
       "      <td>8226</td>\n",
       "    </tr>\n",
       "    <tr>\n",
       "      <th>1</th>\n",
       "      <td>1.0</td>\n",
       "      <td>4535</td>\n",
       "    </tr>\n",
       "    <tr>\n",
       "      <th>2</th>\n",
       "      <td>2.0</td>\n",
       "      <td>2167</td>\n",
       "    </tr>\n",
       "    <tr>\n",
       "      <th>3</th>\n",
       "      <td>3.0</td>\n",
       "      <td>243</td>\n",
       "    </tr>\n",
       "    <tr>\n",
       "      <th>4</th>\n",
       "      <td>4.0</td>\n",
       "      <td>52</td>\n",
       "    </tr>\n",
       "  </tbody>\n",
       "</table>\n",
       "</div>"
      ],
      "text/plain": [
       "   dependants  target_all\n",
       "0         0.0        8226\n",
       "1         1.0        4535\n",
       "2         2.0        2167\n",
       "3         3.0         243\n",
       "4         4.0          52"
      ]
     },
     "execution_count": 32,
     "metadata": {},
     "output_type": "execute_result"
    }
   ],
   "source": [
    "# Датафрейм с количеством компаний, сгруппированных по количеству иждивенцев.\n",
    "stats = df.groupby(['dependants'], as_index=False)[['target']].count()\n",
    "stats = stats.rename(columns={'target':'target_all'})\n",
    "stats"
   ]
  },
  {
   "cell_type": "code",
   "execution_count": 33,
   "metadata": {},
   "outputs": [
    {
     "data": {
      "text/html": [
       "<div>\n",
       "<style scoped>\n",
       "    .dataframe tbody tr th:only-of-type {\n",
       "        vertical-align: middle;\n",
       "    }\n",
       "\n",
       "    .dataframe tbody tr th {\n",
       "        vertical-align: top;\n",
       "    }\n",
       "\n",
       "    .dataframe thead th {\n",
       "        text-align: right;\n",
       "    }\n",
       "</style>\n",
       "<table border=\"1\" class=\"dataframe\">\n",
       "  <thead>\n",
       "    <tr style=\"text-align: right;\">\n",
       "      <th></th>\n",
       "      <th>dependants</th>\n",
       "      <th>target_all</th>\n",
       "      <th>target=1</th>\n",
       "      <th>target%</th>\n",
       "    </tr>\n",
       "  </thead>\n",
       "  <tbody>\n",
       "    <tr>\n",
       "      <th>0</th>\n",
       "      <td>0.0</td>\n",
       "      <td>8226</td>\n",
       "      <td>880</td>\n",
       "      <td>10.7</td>\n",
       "    </tr>\n",
       "    <tr>\n",
       "      <th>1</th>\n",
       "      <td>1.0</td>\n",
       "      <td>4535</td>\n",
       "      <td>566</td>\n",
       "      <td>12.5</td>\n",
       "    </tr>\n",
       "    <tr>\n",
       "      <th>2</th>\n",
       "      <td>2.0</td>\n",
       "      <td>2167</td>\n",
       "      <td>304</td>\n",
       "      <td>14.0</td>\n",
       "    </tr>\n",
       "    <tr>\n",
       "      <th>3</th>\n",
       "      <td>3.0</td>\n",
       "      <td>243</td>\n",
       "      <td>49</td>\n",
       "      <td>20.2</td>\n",
       "    </tr>\n",
       "    <tr>\n",
       "      <th>4</th>\n",
       "      <td>4.0</td>\n",
       "      <td>52</td>\n",
       "      <td>13</td>\n",
       "      <td>25.0</td>\n",
       "    </tr>\n",
       "  </tbody>\n",
       "</table>\n",
       "</div>"
      ],
      "text/plain": [
       "   dependants  target_all  target=1  target%\n",
       "0         0.0        8226       880     10.7\n",
       "1         1.0        4535       566     12.5\n",
       "2         2.0        2167       304     14.0\n",
       "3         3.0         243        49     20.2\n",
       "4         4.0          52        13     25.0"
      ]
     },
     "execution_count": 33,
     "metadata": {},
     "output_type": "execute_result"
    }
   ],
   "source": [
    "# Создание колонки с количеством компаний, получивших отклик, в зависимости от количества иждивенцев.\n",
    "stats['target=1'] = stats.dependants.apply(lambda x: len(df[(df['dependants'] == x) & (df['target'] == 1)]))\n",
    "stats['target%'] = round(((stats['target=1'] / stats['target_all'])*100), 1)\n",
    "stats"
   ]
  },
  {
   "cell_type": "code",
   "execution_count": 34,
   "metadata": {},
   "outputs": [
    {
     "data": {
      "image/png": "[encoded data removed]",
      "text/plain": [
       "<Figure size 1500x400 with 3 Axes>"
      ]
     },
     "metadata": {},
     "output_type": "display_data"
    }
   ],
   "source": [
    "fig, (ax1, ax2, ax3) = plt.subplots(nrows=1, ncols=3, figsize=(15, 4), sharex=True)\n",
    "\n",
    "ax1.bar(stats['dependants'], stats['target_all'], width=0.9, color='red')\n",
    "ax1.set_title('Все компании')\n",
    "\n",
    "ax2.bar(stats['dependants'], stats['target=1'], width=0.9, color='green')\n",
    "ax2.set_title('Отклик')\n",
    "\n",
    "ax3.bar(stats['dependants'], stats['target%'], width=0.9, color='blue')\n",
    "ax3.set_title('Процент отклика')\n",
    "\n",
    "fig.suptitle('Распределение маркетинговых компаний по количеству иждивенцев у клиента', fontsize='x-large');"
   ]
  },
  {
   "cell_type": "raw",
   "metadata": {},
   "source": [
    "При увеличении количества иждивенцев у клиента наблюдается рост процента отклика на маркетинговую компанию. При количестве иждивенцев более двух (хоть число таких клиентов не велико) процент значительно выше среднего."
   ]
  },
  {
   "cell_type": "markdown",
   "metadata": {},
   "source": [
    "#### Зависимость от рабочего статуса "
   ]
  },
  {
   "cell_type": "code",
   "execution_count": 35,
   "metadata": {},
   "outputs": [
    {
     "data": {
      "text/html": [
       "<div>\n",
       "<style scoped>\n",
       "    .dataframe tbody tr th:only-of-type {\n",
       "        vertical-align: middle;\n",
       "    }\n",
       "\n",
       "    .dataframe tbody tr th {\n",
       "        vertical-align: top;\n",
       "    }\n",
       "\n",
       "    .dataframe thead th {\n",
       "        text-align: right;\n",
       "    }\n",
       "</style>\n",
       "<table border=\"1\" class=\"dataframe\">\n",
       "  <thead>\n",
       "    <tr style=\"text-align: right;\">\n",
       "      <th></th>\n",
       "      <th>socstatus_work_fl</th>\n",
       "      <th>target_all</th>\n",
       "    </tr>\n",
       "  </thead>\n",
       "  <tbody>\n",
       "    <tr>\n",
       "      <th>0</th>\n",
       "      <td>No</td>\n",
       "      <td>1376</td>\n",
       "    </tr>\n",
       "    <tr>\n",
       "      <th>1</th>\n",
       "      <td>Yes</td>\n",
       "      <td>13847</td>\n",
       "    </tr>\n",
       "  </tbody>\n",
       "</table>\n",
       "</div>"
      ],
      "text/plain": [
       "  socstatus_work_fl  target_all\n",
       "0                No        1376\n",
       "1               Yes       13847"
      ]
     },
     "execution_count": 35,
     "metadata": {},
     "output_type": "execute_result"
    }
   ],
   "source": [
    "# Датафрейм с количеством компаний, сгруппированных по рабочему статусу.\n",
    "stats = df.groupby(['socstatus_work_fl'], as_index=False)[['target']].count()\n",
    "stats = stats.rename(columns={'target':'target_all'})\n",
    "stats"
   ]
  },
  {
   "cell_type": "code",
   "execution_count": 36,
   "metadata": {},
   "outputs": [
    {
     "data": {
      "text/html": [
       "<div>\n",
       "<style scoped>\n",
       "    .dataframe tbody tr th:only-of-type {\n",
       "        vertical-align: middle;\n",
       "    }\n",
       "\n",
       "    .dataframe tbody tr th {\n",
       "        vertical-align: top;\n",
       "    }\n",
       "\n",
       "    .dataframe thead th {\n",
       "        text-align: right;\n",
       "    }\n",
       "</style>\n",
       "<table border=\"1\" class=\"dataframe\">\n",
       "  <thead>\n",
       "    <tr style=\"text-align: right;\">\n",
       "      <th></th>\n",
       "      <th>socstatus_work_fl</th>\n",
       "      <th>target_all</th>\n",
       "      <th>target=1</th>\n",
       "      <th>target%</th>\n",
       "    </tr>\n",
       "  </thead>\n",
       "  <tbody>\n",
       "    <tr>\n",
       "      <th>0</th>\n",
       "      <td>No</td>\n",
       "      <td>1376</td>\n",
       "      <td>53</td>\n",
       "      <td>3.9</td>\n",
       "    </tr>\n",
       "    <tr>\n",
       "      <th>1</th>\n",
       "      <td>Yes</td>\n",
       "      <td>13847</td>\n",
       "      <td>1759</td>\n",
       "      <td>12.7</td>\n",
       "    </tr>\n",
       "  </tbody>\n",
       "</table>\n",
       "</div>"
      ],
      "text/plain": [
       "  socstatus_work_fl  target_all  target=1  target%\n",
       "0                No        1376        53      3.9\n",
       "1               Yes       13847      1759     12.7"
      ]
     },
     "execution_count": 36,
     "metadata": {},
     "output_type": "execute_result"
    }
   ],
   "source": [
    "# Создание колонки с количеством компаний, получивших отклик, сгруппированных по рабочему статусу.\n",
    "stats['target=1'] = stats.socstatus_work_fl.apply(lambda x: len(df[(df['socstatus_work_fl'] == x) & (df['target'] == 1)]))\n",
    "stats['target%'] = round(((stats['target=1'] / stats['target_all'])*100), 1)\n",
    "stats"
   ]
  },
  {
   "cell_type": "code",
   "execution_count": 37,
   "metadata": {},
   "outputs": [
    {
     "data": {
      "image/png": "[encoded data removed]",
      "text/plain": [
       "<Figure size 1500x400 with 3 Axes>"
      ]
     },
     "metadata": {},
     "output_type": "display_data"
    }
   ],
   "source": [
    "# Видим, что количество всех сессий росло, но процент конверсии падал с течением времени.\n",
    "fig, (ax1, ax2, ax3) = plt.subplots(nrows=1, ncols=3, figsize=(15, 4), sharex=True)\n",
    "\n",
    "ax1.bar(stats['socstatus_work_fl'], stats['target_all'], width=0.9, color='red')\n",
    "ax1.set_title('Все компании')\n",
    "\n",
    "ax2.bar(stats['socstatus_work_fl'], stats['target=1'], width=0.9, color='green')\n",
    "ax2.set_title('Отклик')\n",
    "\n",
    "ax3.bar(stats['socstatus_work_fl'], stats['target%'], width=0.9, color='blue')\n",
    "ax3.set_title('Процент отклика')\n",
    "\n",
    "fig.suptitle('Распределение маркетинговых компаний в зависимости от рабочего статуса клиента', fontsize='x-large');"
   ]
  },
  {
   "cell_type": "raw",
   "metadata": {},
   "source": [
    "Количество безработных клиентов в выборке мало, что согласуется со статистикой занятости. Процент отклика среди безработных клиентов значительно ниже, среди работающих - чуть выше среднего."
   ]
  },
  {
   "cell_type": "markdown",
   "metadata": {},
   "source": [
    "#### Зависимость от пенсионного статуса"
   ]
  },
  {
   "cell_type": "code",
   "execution_count": 38,
   "metadata": {},
   "outputs": [
    {
     "data": {
      "text/html": [
       "<div>\n",
       "<style scoped>\n",
       "    .dataframe tbody tr th:only-of-type {\n",
       "        vertical-align: middle;\n",
       "    }\n",
       "\n",
       "    .dataframe tbody tr th {\n",
       "        vertical-align: top;\n",
       "    }\n",
       "\n",
       "    .dataframe thead th {\n",
       "        text-align: right;\n",
       "    }\n",
       "</style>\n",
       "<table border=\"1\" class=\"dataframe\">\n",
       "  <thead>\n",
       "    <tr style=\"text-align: right;\">\n",
       "      <th></th>\n",
       "      <th>socstatus_pens_fl</th>\n",
       "      <th>target_all</th>\n",
       "    </tr>\n",
       "  </thead>\n",
       "  <tbody>\n",
       "    <tr>\n",
       "      <th>0</th>\n",
       "      <td>No</td>\n",
       "      <td>13176</td>\n",
       "    </tr>\n",
       "    <tr>\n",
       "      <th>1</th>\n",
       "      <td>Yes</td>\n",
       "      <td>2047</td>\n",
       "    </tr>\n",
       "  </tbody>\n",
       "</table>\n",
       "</div>"
      ],
      "text/plain": [
       "  socstatus_pens_fl  target_all\n",
       "0                No       13176\n",
       "1               Yes        2047"
      ]
     },
     "execution_count": 38,
     "metadata": {},
     "output_type": "execute_result"
    }
   ],
   "source": [
    "# Датафрейм с количеством компаний, сгруппированных по пенсионному статусу.\n",
    "stats = df.groupby(['socstatus_pens_fl'], as_index=False)[['target']].count()\n",
    "stats = stats.rename(columns={'target':'target_all'})\n",
    "stats"
   ]
  },
  {
   "cell_type": "code",
   "execution_count": 39,
   "metadata": {},
   "outputs": [
    {
     "data": {
      "text/html": [
       "<div>\n",
       "<style scoped>\n",
       "    .dataframe tbody tr th:only-of-type {\n",
       "        vertical-align: middle;\n",
       "    }\n",
       "\n",
       "    .dataframe tbody tr th {\n",
       "        vertical-align: top;\n",
       "    }\n",
       "\n",
       "    .dataframe thead th {\n",
       "        text-align: right;\n",
       "    }\n",
       "</style>\n",
       "<table border=\"1\" class=\"dataframe\">\n",
       "  <thead>\n",
       "    <tr style=\"text-align: right;\">\n",
       "      <th></th>\n",
       "      <th>socstatus_pens_fl</th>\n",
       "      <th>target_all</th>\n",
       "      <th>target=1</th>\n",
       "      <th>target%</th>\n",
       "    </tr>\n",
       "  </thead>\n",
       "  <tbody>\n",
       "    <tr>\n",
       "      <th>0</th>\n",
       "      <td>No</td>\n",
       "      <td>13176</td>\n",
       "      <td>1711</td>\n",
       "      <td>13.0</td>\n",
       "    </tr>\n",
       "    <tr>\n",
       "      <th>1</th>\n",
       "      <td>Yes</td>\n",
       "      <td>2047</td>\n",
       "      <td>101</td>\n",
       "      <td>4.9</td>\n",
       "    </tr>\n",
       "  </tbody>\n",
       "</table>\n",
       "</div>"
      ],
      "text/plain": [
       "  socstatus_pens_fl  target_all  target=1  target%\n",
       "0                No       13176      1711     13.0\n",
       "1               Yes        2047       101      4.9"
      ]
     },
     "execution_count": 39,
     "metadata": {},
     "output_type": "execute_result"
    }
   ],
   "source": [
    "# Создание колонки с количеством компаний, получивших отклик, сгруппированных по пенсионному статусу.\n",
    "stats['target=1'] = stats.socstatus_pens_fl.apply(lambda x: len(df[(df['socstatus_pens_fl'] == x) & (df['target'] == 1)]))\n",
    "stats['target%'] = round(((stats['target=1'] / stats['target_all'])*100), 1)\n",
    "stats"
   ]
  },
  {
   "cell_type": "code",
   "execution_count": 40,
   "metadata": {},
   "outputs": [
    {
     "data": {
      "image/png": "[encoded data removed]",
      "text/plain": [
       "<Figure size 1500x400 with 3 Axes>"
      ]
     },
     "metadata": {},
     "output_type": "display_data"
    }
   ],
   "source": [
    "fig, (ax1, ax2, ax3) = plt.subplots(nrows=1, ncols=3, figsize=(15, 4), sharex=True)\n",
    "\n",
    "ax1.bar(stats['socstatus_pens_fl'], stats['target_all'], width=0.9, color='red')\n",
    "ax1.set_title('Все компании')\n",
    "\n",
    "ax2.bar(stats['socstatus_pens_fl'], stats['target=1'], width=0.9, color='green')\n",
    "ax2.set_title('Отклик')\n",
    "\n",
    "ax3.bar(stats['socstatus_pens_fl'], stats['target%'], width=0.9, color='blue')\n",
    "ax3.set_title('Процент отклика')\n",
    "\n",
    "fig.suptitle('Распределение маркетинговых компаний в зависимости от пенсионного статуса клиента', fontsize='x-large');"
   ]
  },
  {
   "cell_type": "raw",
   "metadata": {},
   "source": [
    "Процент отклика среди клиентов на пенсии значительно ниже, среди не находящихся на пенсии - выше среднего."
   ]
  },
  {
   "cell_type": "markdown",
   "metadata": {},
   "source": [
    "#### Зависимость от количества ссуд в кредитной истории клиента"
   ]
  },
  {
   "cell_type": "code",
   "execution_count": 41,
   "metadata": {},
   "outputs": [
    {
     "data": {
      "text/html": [
       "<div>\n",
       "<style scoped>\n",
       "    .dataframe tbody tr th:only-of-type {\n",
       "        vertical-align: middle;\n",
       "    }\n",
       "\n",
       "    .dataframe tbody tr th {\n",
       "        vertical-align: top;\n",
       "    }\n",
       "\n",
       "    .dataframe thead th {\n",
       "        text-align: right;\n",
       "    }\n",
       "</style>\n",
       "<table border=\"1\" class=\"dataframe\">\n",
       "  <thead>\n",
       "    <tr style=\"text-align: right;\">\n",
       "      <th></th>\n",
       "      <th>loan_num_total</th>\n",
       "      <th>target_all</th>\n",
       "    </tr>\n",
       "  </thead>\n",
       "  <tbody>\n",
       "    <tr>\n",
       "      <th>0</th>\n",
       "      <td>1</td>\n",
       "      <td>11288</td>\n",
       "    </tr>\n",
       "    <tr>\n",
       "      <th>1</th>\n",
       "      <td>2</td>\n",
       "      <td>2633</td>\n",
       "    </tr>\n",
       "    <tr>\n",
       "      <th>2</th>\n",
       "      <td>3</td>\n",
       "      <td>871</td>\n",
       "    </tr>\n",
       "    <tr>\n",
       "      <th>3</th>\n",
       "      <td>4</td>\n",
       "      <td>275</td>\n",
       "    </tr>\n",
       "    <tr>\n",
       "      <th>4</th>\n",
       "      <td>5</td>\n",
       "      <td>156</td>\n",
       "    </tr>\n",
       "  </tbody>\n",
       "</table>\n",
       "</div>"
      ],
      "text/plain": [
       "   loan_num_total  target_all\n",
       "0               1       11288\n",
       "1               2        2633\n",
       "2               3         871\n",
       "3               4         275\n",
       "4               5         156"
      ]
     },
     "execution_count": 41,
     "metadata": {},
     "output_type": "execute_result"
    }
   ],
   "source": [
    "# Датафрейм с количеством компаний, сгруппированных по количеству ссуд в кредитной истории.\n",
    "stats = df.groupby(['loan_num_total'], as_index=False)[['target']].count()\n",
    "stats = stats.rename(columns={'target':'target_all'})\n",
    "stats"
   ]
  },
  {
   "cell_type": "code",
   "execution_count": 42,
   "metadata": {},
   "outputs": [
    {
     "data": {
      "text/html": [
       "<div>\n",
       "<style scoped>\n",
       "    .dataframe tbody tr th:only-of-type {\n",
       "        vertical-align: middle;\n",
       "    }\n",
       "\n",
       "    .dataframe tbody tr th {\n",
       "        vertical-align: top;\n",
       "    }\n",
       "\n",
       "    .dataframe thead th {\n",
       "        text-align: right;\n",
       "    }\n",
       "</style>\n",
       "<table border=\"1\" class=\"dataframe\">\n",
       "  <thead>\n",
       "    <tr style=\"text-align: right;\">\n",
       "      <th></th>\n",
       "      <th>loan_num_total</th>\n",
       "      <th>target_all</th>\n",
       "      <th>target=1</th>\n",
       "      <th>target%</th>\n",
       "    </tr>\n",
       "  </thead>\n",
       "  <tbody>\n",
       "    <tr>\n",
       "      <th>0</th>\n",
       "      <td>1</td>\n",
       "      <td>11288</td>\n",
       "      <td>1425</td>\n",
       "      <td>12.6</td>\n",
       "    </tr>\n",
       "    <tr>\n",
       "      <th>1</th>\n",
       "      <td>2</td>\n",
       "      <td>2633</td>\n",
       "      <td>262</td>\n",
       "      <td>10.0</td>\n",
       "    </tr>\n",
       "    <tr>\n",
       "      <th>2</th>\n",
       "      <td>3</td>\n",
       "      <td>871</td>\n",
       "      <td>87</td>\n",
       "      <td>10.0</td>\n",
       "    </tr>\n",
       "    <tr>\n",
       "      <th>3</th>\n",
       "      <td>4</td>\n",
       "      <td>275</td>\n",
       "      <td>24</td>\n",
       "      <td>8.7</td>\n",
       "    </tr>\n",
       "    <tr>\n",
       "      <th>4</th>\n",
       "      <td>5</td>\n",
       "      <td>156</td>\n",
       "      <td>14</td>\n",
       "      <td>9.0</td>\n",
       "    </tr>\n",
       "  </tbody>\n",
       "</table>\n",
       "</div>"
      ],
      "text/plain": [
       "   loan_num_total  target_all  target=1  target%\n",
       "0               1       11288      1425     12.6\n",
       "1               2        2633       262     10.0\n",
       "2               3         871        87     10.0\n",
       "3               4         275        24      8.7\n",
       "4               5         156        14      9.0"
      ]
     },
     "execution_count": 42,
     "metadata": {},
     "output_type": "execute_result"
    }
   ],
   "source": [
    "# Создание колонки с количеством компаний, получивших отклик, сгруппированных по количеству ссуд в кредитной истории.\n",
    "stats['target=1'] = stats.loan_num_total.apply(lambda x: len(df[(df['loan_num_total'] == x) & (df['target'] == 1)]))\n",
    "stats['target%'] = round(((stats['target=1'] / stats['target_all'])*100), 1)\n",
    "stats"
   ]
  },
  {
   "cell_type": "code",
   "execution_count": 43,
   "metadata": {},
   "outputs": [
    {
     "data": {
      "image/png": "[encoded data removed]",
      "text/plain": [
       "<Figure size 1500x400 with 3 Axes>"
      ]
     },
     "metadata": {},
     "output_type": "display_data"
    }
   ],
   "source": [
    "fig, (ax1, ax2, ax3) = plt.subplots(nrows=1, ncols=3, figsize=(15, 4), sharex=True)\n",
    "\n",
    "ax1.bar(stats['loan_num_total'], stats['target_all'], width=0.9, color='red')\n",
    "ax1.set_title('Все компании')\n",
    "\n",
    "ax2.bar(stats['loan_num_total'], stats['target=1'], width=0.9, color='green')\n",
    "ax2.set_title('Отклик')\n",
    "\n",
    "ax3.bar(stats['loan_num_total'], stats['target%'], width=0.9, color='blue')\n",
    "ax3.set_title('Процент отклика')\n",
    "\n",
    "fig.suptitle('Распределение компаний по количеству ссуд в кредитной истории клиента', fontsize='x-large');"
   ]
  },
  {
   "cell_type": "raw",
   "metadata": {},
   "source": [
    "Количество клиентов, имеющих в кредитной истории количество ссуд две и более, значительно меньше. Процент отклика выше у тех, кто лишь единожды обращался за кредитом. Возможно, прошло мало времени, или отсутствует необходимость в дальнейшем кредитовании, или сказывается недовольство предоставленными услугами."
   ]
  },
  {
   "cell_type": "markdown",
   "metadata": {},
   "source": [
    "#### Зависимость от количества погашенных ссуд в кредитной истории клиента"
   ]
  },
  {
   "cell_type": "code",
   "execution_count": 44,
   "metadata": {},
   "outputs": [
    {
     "data": {
      "text/html": [
       "<div>\n",
       "<style scoped>\n",
       "    .dataframe tbody tr th:only-of-type {\n",
       "        vertical-align: middle;\n",
       "    }\n",
       "\n",
       "    .dataframe tbody tr th {\n",
       "        vertical-align: top;\n",
       "    }\n",
       "\n",
       "    .dataframe thead th {\n",
       "        text-align: right;\n",
       "    }\n",
       "</style>\n",
       "<table border=\"1\" class=\"dataframe\">\n",
       "  <thead>\n",
       "    <tr style=\"text-align: right;\">\n",
       "      <th></th>\n",
       "      <th>loan_num_closed</th>\n",
       "      <th>target_all</th>\n",
       "    </tr>\n",
       "  </thead>\n",
       "  <tbody>\n",
       "    <tr>\n",
       "      <th>0</th>\n",
       "      <td>0.0</td>\n",
       "      <td>7791</td>\n",
       "    </tr>\n",
       "    <tr>\n",
       "      <th>1</th>\n",
       "      <td>1.0</td>\n",
       "      <td>4761</td>\n",
       "    </tr>\n",
       "    <tr>\n",
       "      <th>2</th>\n",
       "      <td>2.0</td>\n",
       "      <td>1770</td>\n",
       "    </tr>\n",
       "    <tr>\n",
       "      <th>3</th>\n",
       "      <td>3.0</td>\n",
       "      <td>603</td>\n",
       "    </tr>\n",
       "    <tr>\n",
       "      <th>4</th>\n",
       "      <td>4.0</td>\n",
       "      <td>202</td>\n",
       "    </tr>\n",
       "    <tr>\n",
       "      <th>5</th>\n",
       "      <td>5.0</td>\n",
       "      <td>96</td>\n",
       "    </tr>\n",
       "  </tbody>\n",
       "</table>\n",
       "</div>"
      ],
      "text/plain": [
       "   loan_num_closed  target_all\n",
       "0              0.0        7791\n",
       "1              1.0        4761\n",
       "2              2.0        1770\n",
       "3              3.0         603\n",
       "4              4.0         202\n",
       "5              5.0          96"
      ]
     },
     "execution_count": 44,
     "metadata": {},
     "output_type": "execute_result"
    }
   ],
   "source": [
    "# Датафрейм с количеством компаний, сгруппированных по количеству погпшенных ссуд в кредитной истории.\n",
    "stats = df.groupby(['loan_num_closed'], as_index=False)[['target']].count()\n",
    "stats = stats.rename(columns={'target':'target_all'})\n",
    "stats"
   ]
  },
  {
   "cell_type": "code",
   "execution_count": 45,
   "metadata": {},
   "outputs": [
    {
     "data": {
      "text/html": [
       "<div>\n",
       "<style scoped>\n",
       "    .dataframe tbody tr th:only-of-type {\n",
       "        vertical-align: middle;\n",
       "    }\n",
       "\n",
       "    .dataframe tbody tr th {\n",
       "        vertical-align: top;\n",
       "    }\n",
       "\n",
       "    .dataframe thead th {\n",
       "        text-align: right;\n",
       "    }\n",
       "</style>\n",
       "<table border=\"1\" class=\"dataframe\">\n",
       "  <thead>\n",
       "    <tr style=\"text-align: right;\">\n",
       "      <th></th>\n",
       "      <th>loan_num_closed</th>\n",
       "      <th>target_all</th>\n",
       "      <th>target=1</th>\n",
       "      <th>target%</th>\n",
       "    </tr>\n",
       "  </thead>\n",
       "  <tbody>\n",
       "    <tr>\n",
       "      <th>0</th>\n",
       "      <td>0.0</td>\n",
       "      <td>7791</td>\n",
       "      <td>1094</td>\n",
       "      <td>14.0</td>\n",
       "    </tr>\n",
       "    <tr>\n",
       "      <th>1</th>\n",
       "      <td>1.0</td>\n",
       "      <td>4761</td>\n",
       "      <td>489</td>\n",
       "      <td>10.3</td>\n",
       "    </tr>\n",
       "    <tr>\n",
       "      <th>2</th>\n",
       "      <td>2.0</td>\n",
       "      <td>1770</td>\n",
       "      <td>156</td>\n",
       "      <td>8.8</td>\n",
       "    </tr>\n",
       "    <tr>\n",
       "      <th>3</th>\n",
       "      <td>3.0</td>\n",
       "      <td>603</td>\n",
       "      <td>48</td>\n",
       "      <td>8.0</td>\n",
       "    </tr>\n",
       "    <tr>\n",
       "      <th>4</th>\n",
       "      <td>4.0</td>\n",
       "      <td>202</td>\n",
       "      <td>18</td>\n",
       "      <td>8.9</td>\n",
       "    </tr>\n",
       "    <tr>\n",
       "      <th>5</th>\n",
       "      <td>5.0</td>\n",
       "      <td>96</td>\n",
       "      <td>7</td>\n",
       "      <td>7.3</td>\n",
       "    </tr>\n",
       "  </tbody>\n",
       "</table>\n",
       "</div>"
      ],
      "text/plain": [
       "   loan_num_closed  target_all  target=1  target%\n",
       "0              0.0        7791      1094     14.0\n",
       "1              1.0        4761       489     10.3\n",
       "2              2.0        1770       156      8.8\n",
       "3              3.0         603        48      8.0\n",
       "4              4.0         202        18      8.9\n",
       "5              5.0          96         7      7.3"
      ]
     },
     "execution_count": 45,
     "metadata": {},
     "output_type": "execute_result"
    }
   ],
   "source": [
    "# Создание колонки с количеством компаний, получивших отклик, сгруппированных по количеству погашенных ссуд в кредитной истории.\n",
    "stats['target=1'] = stats.loan_num_closed.apply(lambda x: len(df[(df['loan_num_closed'] == x) & (df['target'] == 1)]))\n",
    "stats['target%'] = round(((stats['target=1'] / stats['target_all'])*100), 1)\n",
    "stats"
   ]
  },
  {
   "cell_type": "code",
   "execution_count": 46,
   "metadata": {},
   "outputs": [
    {
     "data": {
      "image/png": "[encoded data removed]",
      "text/plain": [
       "<Figure size 1500x400 with 3 Axes>"
      ]
     },
     "metadata": {},
     "output_type": "display_data"
    }
   ],
   "source": [
    "fig, (ax1, ax2, ax3) = plt.subplots(nrows=1, ncols=3, figsize=(15, 4), sharex=True)\n",
    "\n",
    "ax1.bar(stats['loan_num_closed'], stats['target_all'], width=0.9, color='red')\n",
    "ax1.set_title('Все компании')\n",
    "\n",
    "ax2.bar(stats['loan_num_closed'], stats['target=1'], width=0.9, color='green')\n",
    "ax2.set_title('Отклик')\n",
    "\n",
    "ax3.bar(stats['loan_num_closed'], stats['target%'], width=0.9, color='blue')\n",
    "ax3.set_title('Процент отклика')\n",
    "\n",
    "fig.suptitle('Распределение компаний по количеству погашенных ссуд в кредитной истории клиента', fontsize='x-large');"
   ]
  },
  {
   "cell_type": "raw",
   "metadata": {},
   "source": [
    "Ситуация схожа с предыдущем пунктом. Количество клиентов, имеющих в кредитной истории количество погашенных ссуд две и более, значительно меньше. Процент отклика выше у тех, кто еще не погасил предыдущий кредит либо пагасил единожды. Возможно, прошло мало времени, или отсутствует необходимость в дальнейшем кредитовании, или сказывается недовольство предоставленными услугами."
   ]
  },
  {
   "cell_type": "markdown",
   "metadata": {},
   "source": [
    "#### Зависимость от возраста клиента"
   ]
  },
  {
   "cell_type": "code",
   "execution_count": 47,
   "metadata": {},
   "outputs": [
    {
     "data": {
      "text/html": [
       "<div>\n",
       "<style scoped>\n",
       "    .dataframe tbody tr th:only-of-type {\n",
       "        vertical-align: middle;\n",
       "    }\n",
       "\n",
       "    .dataframe tbody tr th {\n",
       "        vertical-align: top;\n",
       "    }\n",
       "\n",
       "    .dataframe thead th {\n",
       "        text-align: right;\n",
       "    }\n",
       "</style>\n",
       "<table border=\"1\" class=\"dataframe\">\n",
       "  <thead>\n",
       "    <tr style=\"text-align: right;\">\n",
       "      <th></th>\n",
       "      <th>age</th>\n",
       "      <th>target_all</th>\n",
       "    </tr>\n",
       "  </thead>\n",
       "  <tbody>\n",
       "    <tr>\n",
       "      <th>0</th>\n",
       "      <td>21.0</td>\n",
       "      <td>13</td>\n",
       "    </tr>\n",
       "    <tr>\n",
       "      <th>1</th>\n",
       "      <td>22.0</td>\n",
       "      <td>292</td>\n",
       "    </tr>\n",
       "    <tr>\n",
       "      <th>2</th>\n",
       "      <td>23.0</td>\n",
       "      <td>380</td>\n",
       "    </tr>\n",
       "    <tr>\n",
       "      <th>3</th>\n",
       "      <td>24.0</td>\n",
       "      <td>437</td>\n",
       "    </tr>\n",
       "    <tr>\n",
       "      <th>4</th>\n",
       "      <td>25.0</td>\n",
       "      <td>430</td>\n",
       "    </tr>\n",
       "  </tbody>\n",
       "</table>\n",
       "</div>"
      ],
      "text/plain": [
       "    age  target_all\n",
       "0  21.0          13\n",
       "1  22.0         292\n",
       "2  23.0         380\n",
       "3  24.0         437\n",
       "4  25.0         430"
      ]
     },
     "execution_count": 47,
     "metadata": {},
     "output_type": "execute_result"
    }
   ],
   "source": [
    "# Датафрейм с количеством визитов, сгруппированных по возрасту клиента.\n",
    "stats = df.groupby(['age'], as_index=False)[['target']].count()\n",
    "stats = stats.rename(columns={'target':'target_all'})\n",
    "stats.head()"
   ]
  },
  {
   "cell_type": "code",
   "execution_count": 48,
   "metadata": {},
   "outputs": [
    {
     "data": {
      "text/html": [
       "<div>\n",
       "<style scoped>\n",
       "    .dataframe tbody tr th:only-of-type {\n",
       "        vertical-align: middle;\n",
       "    }\n",
       "\n",
       "    .dataframe tbody tr th {\n",
       "        vertical-align: top;\n",
       "    }\n",
       "\n",
       "    .dataframe thead th {\n",
       "        text-align: right;\n",
       "    }\n",
       "</style>\n",
       "<table border=\"1\" class=\"dataframe\">\n",
       "  <thead>\n",
       "    <tr style=\"text-align: right;\">\n",
       "      <th></th>\n",
       "      <th>age</th>\n",
       "      <th>target_all</th>\n",
       "      <th>target=1</th>\n",
       "      <th>target%</th>\n",
       "    </tr>\n",
       "  </thead>\n",
       "  <tbody>\n",
       "    <tr>\n",
       "      <th>0</th>\n",
       "      <td>21.0</td>\n",
       "      <td>13</td>\n",
       "      <td>2</td>\n",
       "      <td>15.4</td>\n",
       "    </tr>\n",
       "    <tr>\n",
       "      <th>1</th>\n",
       "      <td>22.0</td>\n",
       "      <td>292</td>\n",
       "      <td>49</td>\n",
       "      <td>16.8</td>\n",
       "    </tr>\n",
       "    <tr>\n",
       "      <th>2</th>\n",
       "      <td>23.0</td>\n",
       "      <td>380</td>\n",
       "      <td>58</td>\n",
       "      <td>15.3</td>\n",
       "    </tr>\n",
       "    <tr>\n",
       "      <th>3</th>\n",
       "      <td>24.0</td>\n",
       "      <td>437</td>\n",
       "      <td>69</td>\n",
       "      <td>15.8</td>\n",
       "    </tr>\n",
       "    <tr>\n",
       "      <th>4</th>\n",
       "      <td>25.0</td>\n",
       "      <td>430</td>\n",
       "      <td>74</td>\n",
       "      <td>17.2</td>\n",
       "    </tr>\n",
       "  </tbody>\n",
       "</table>\n",
       "</div>"
      ],
      "text/plain": [
       "    age  target_all  target=1  target%\n",
       "0  21.0          13         2     15.4\n",
       "1  22.0         292        49     16.8\n",
       "2  23.0         380        58     15.3\n",
       "3  24.0         437        69     15.8\n",
       "4  25.0         430        74     17.2"
      ]
     },
     "execution_count": 48,
     "metadata": {},
     "output_type": "execute_result"
    }
   ],
   "source": [
    "# Создание колонки с количеством компаний, получивших отклик, сгруппированных по возрасту клиента.\n",
    "stats['target=1'] = stats.age.apply(lambda x: len(df[(df['age'] == x) & (df['target'] == 1)]))\n",
    "stats['target%'] = round(((stats['target=1'] / stats['target_all'])*100), 1)\n",
    "stats.head()"
   ]
  },
  {
   "cell_type": "code",
   "execution_count": 49,
   "metadata": {},
   "outputs": [
    {
     "data": {
      "image/png": "[encoded data removed]",
      "text/plain": [
       "<Figure size 1000x800 with 3 Axes>"
      ]
     },
     "metadata": {},
     "output_type": "display_data"
    }
   ],
   "source": [
    "fig, (ax1, ax2, ax3) = plt.subplots(nrows=3, ncols=1, figsize=(10, 8), sharex=True)\n",
    "\n",
    "ax1.bar(stats['age'], stats['target_all'], width=0.9, color='red')\n",
    "ax1.set_title('Все компании')\n",
    "\n",
    "ax2.bar(stats['age'], stats['target=1'], width=0.9, color='green')\n",
    "ax2.set_title('Отклик')\n",
    "\n",
    "ax3.bar(stats['age'], stats['target%'], width=0.9, color='blue')\n",
    "ax3.set_xlabel('возраст клиента')\n",
    "ax3.set_title('Процент отклика')\n",
    "\n",
    "fig.suptitle('Распределение компаний по возрасту клиента', fontsize='x-large');"
   ]
  },
  {
   "cell_type": "raw",
   "metadata": {},
   "source": [
    "Процент отклика выше у людей возрастом до 40 лет, затем наблюдается тенденция к снижению."
   ]
  },
  {
   "cell_type": "markdown",
   "metadata": {},
   "source": [
    "## Генерация признаков"
   ]
  },
  {
   "cell_type": "raw",
   "metadata": {},
   "source": [
    "Создадим признак 'personal_income_upd' на основе признака 'personal_income'. Важно знать не только общий доход, но и на какое количество человек (детей/иждивенцев) он распеределяется."
   ]
  },
  {
   "cell_type": "code",
   "execution_count": 50,
   "metadata": {},
   "outputs": [
    {
     "data": {
      "text/plain": [
       "count    15223.000000\n",
       "mean         0.870459\n",
       "std          0.778840\n",
       "min          0.000000\n",
       "25%          0.000000\n",
       "50%          1.000000\n",
       "75%          1.000000\n",
       "max          4.500000\n",
       "Name: child_dependants_mean, dtype: float64"
      ]
     },
     "execution_count": 50,
     "metadata": {},
     "output_type": "execute_result"
    }
   ],
   "source": [
    "# Создание вспомогательного столбца со средним значением суммы столбцов \"количество детей\" и \"количество иждивенцев\".\n",
    "df['child_dependants_mean'] = (df['child_total'] + df['dependants'])/2\n",
    "df.child_dependants_mean.describe()"
   ]
  },
  {
   "cell_type": "code",
   "execution_count": 51,
   "metadata": {},
   "outputs": [
    {
     "data": {
      "text/plain": [
       "0         3333.333333\n",
       "1         4000.000000\n",
       "2         4500.000000\n",
       "3        25000.000000\n",
       "4        15000.000000\n",
       "             ...     \n",
       "15218    12000.000000\n",
       "15219    10000.000000\n",
       "15220     6000.000000\n",
       "15221     4500.000000\n",
       "15222    20000.000000\n",
       "Name: personal_income_upd, Length: 15223, dtype: float64"
      ]
     },
     "execution_count": 51,
     "metadata": {},
     "output_type": "execute_result"
    }
   ],
   "source": [
    "# Новому признаку присваиваем следующее значение: personal_income / child_dependants_mean.\n",
    "# Если child_dependants_mean < 1, то personal_income * 1.25.\n",
    "df['personal_income_upd'] = df.apply(lambda x: x.personal_income*1.25 if x.child_dependants_mean < 1 \n",
    "                                     else x.personal_income/x.child_dependants_mean, axis=1)\n",
    "df['personal_income_upd']"
   ]
  },
  {
   "cell_type": "code",
   "execution_count": 52,
   "metadata": {},
   "outputs": [
    {
     "data": {
      "text/plain": [
       "count    15223.000000\n",
       "mean     13290.755275\n",
       "std       7891.321455\n",
       "min       1000.000000\n",
       "25%       7500.000000\n",
       "50%      11550.000000\n",
       "75%      17500.000000\n",
       "max      38125.000000\n",
       "Name: personal_income_upd, dtype: float64"
      ]
     },
     "execution_count": 52,
     "metadata": {},
     "output_type": "execute_result"
    }
   ],
   "source": [
    "df.personal_income_upd.describe()"
   ]
  },
  {
   "cell_type": "markdown",
   "metadata": {},
   "source": [
    "## Преобразование категориальных признаков и стандартизация"
   ]
  },
  {
   "cell_type": "markdown",
   "metadata": {},
   "source": [
    "#### Dummy-кодирование"
   ]
  },
  {
   "cell_type": "code",
   "execution_count": 53,
   "metadata": {},
   "outputs": [
    {
     "data": {
      "text/plain": [
       "Index(['agreement_rk', 'id_client', 'target', 'personal_income', 'age',\n",
       "       'gender', 'child_total', 'dependants', 'socstatus_work_fl',\n",
       "       'socstatus_pens_fl', 'loan_num_total', 'loan_num_closed',\n",
       "       'income_interval', 'child_dependants_mean', 'personal_income_upd'],\n",
       "      dtype='object')"
      ]
     },
     "execution_count": 53,
     "metadata": {},
     "output_type": "execute_result"
    }
   ],
   "source": [
    "df.columns"
   ]
  },
  {
   "cell_type": "code",
   "execution_count": 54,
   "metadata": {},
   "outputs": [
    {
     "data": {
      "text/html": [
       "<div>\n",
       "<style scoped>\n",
       "    .dataframe tbody tr th:only-of-type {\n",
       "        vertical-align: middle;\n",
       "    }\n",
       "\n",
       "    .dataframe tbody tr th {\n",
       "        vertical-align: top;\n",
       "    }\n",
       "\n",
       "    .dataframe thead th {\n",
       "        text-align: right;\n",
       "    }\n",
       "</style>\n",
       "<table border=\"1\" class=\"dataframe\">\n",
       "  <thead>\n",
       "    <tr style=\"text-align: right;\">\n",
       "      <th></th>\n",
       "      <th>agreement_rk</th>\n",
       "      <th>id_client</th>\n",
       "      <th>target</th>\n",
       "      <th>personal_income</th>\n",
       "      <th>age</th>\n",
       "      <th>child_total</th>\n",
       "      <th>dependants</th>\n",
       "      <th>loan_num_total</th>\n",
       "      <th>loan_num_closed</th>\n",
       "      <th>income_interval</th>\n",
       "      <th>child_dependants_mean</th>\n",
       "      <th>personal_income_upd</th>\n",
       "      <th>gender_Men</th>\n",
       "      <th>gender_Women</th>\n",
       "      <th>socstatus_work_fl_No</th>\n",
       "      <th>socstatus_work_fl_Yes</th>\n",
       "      <th>socstatus_pens_fl_No</th>\n",
       "      <th>socstatus_pens_fl_Yes</th>\n",
       "    </tr>\n",
       "  </thead>\n",
       "  <tbody>\n",
       "    <tr>\n",
       "      <th>0</th>\n",
       "      <td>59910150.0</td>\n",
       "      <td>106804370.0</td>\n",
       "      <td>0.0</td>\n",
       "      <td>5000.0</td>\n",
       "      <td>49.0</td>\n",
       "      <td>2.0</td>\n",
       "      <td>1.0</td>\n",
       "      <td>1</td>\n",
       "      <td>1.0</td>\n",
       "      <td>2-8</td>\n",
       "      <td>1.5</td>\n",
       "      <td>3333.333333</td>\n",
       "      <td>1</td>\n",
       "      <td>0</td>\n",
       "      <td>0</td>\n",
       "      <td>1</td>\n",
       "      <td>1</td>\n",
       "      <td>0</td>\n",
       "    </tr>\n",
       "    <tr>\n",
       "      <th>1</th>\n",
       "      <td>59910230.0</td>\n",
       "      <td>106804371.0</td>\n",
       "      <td>0.0</td>\n",
       "      <td>12000.0</td>\n",
       "      <td>32.0</td>\n",
       "      <td>3.0</td>\n",
       "      <td>3.0</td>\n",
       "      <td>1</td>\n",
       "      <td>1.0</td>\n",
       "      <td>8-12</td>\n",
       "      <td>3.0</td>\n",
       "      <td>4000.000000</td>\n",
       "      <td>1</td>\n",
       "      <td>0</td>\n",
       "      <td>0</td>\n",
       "      <td>1</td>\n",
       "      <td>1</td>\n",
       "      <td>0</td>\n",
       "    </tr>\n",
       "    <tr>\n",
       "      <th>2</th>\n",
       "      <td>59910525.0</td>\n",
       "      <td>106804372.0</td>\n",
       "      <td>0.0</td>\n",
       "      <td>9000.0</td>\n",
       "      <td>52.0</td>\n",
       "      <td>4.0</td>\n",
       "      <td>0.0</td>\n",
       "      <td>2</td>\n",
       "      <td>1.0</td>\n",
       "      <td>8-12</td>\n",
       "      <td>2.0</td>\n",
       "      <td>4500.000000</td>\n",
       "      <td>1</td>\n",
       "      <td>0</td>\n",
       "      <td>0</td>\n",
       "      <td>1</td>\n",
       "      <td>1</td>\n",
       "      <td>0</td>\n",
       "    </tr>\n",
       "    <tr>\n",
       "      <th>3</th>\n",
       "      <td>59910803.0</td>\n",
       "      <td>106804373.0</td>\n",
       "      <td>0.0</td>\n",
       "      <td>25000.0</td>\n",
       "      <td>39.0</td>\n",
       "      <td>1.0</td>\n",
       "      <td>1.0</td>\n",
       "      <td>1</td>\n",
       "      <td>1.0</td>\n",
       "      <td>17-30</td>\n",
       "      <td>1.0</td>\n",
       "      <td>25000.000000</td>\n",
       "      <td>1</td>\n",
       "      <td>0</td>\n",
       "      <td>0</td>\n",
       "      <td>1</td>\n",
       "      <td>1</td>\n",
       "      <td>0</td>\n",
       "    </tr>\n",
       "    <tr>\n",
       "      <th>4</th>\n",
       "      <td>59911781.0</td>\n",
       "      <td>106804374.0</td>\n",
       "      <td>0.0</td>\n",
       "      <td>12000.0</td>\n",
       "      <td>30.0</td>\n",
       "      <td>0.0</td>\n",
       "      <td>0.0</td>\n",
       "      <td>2</td>\n",
       "      <td>1.0</td>\n",
       "      <td>8-12</td>\n",
       "      <td>0.0</td>\n",
       "      <td>15000.000000</td>\n",
       "      <td>0</td>\n",
       "      <td>1</td>\n",
       "      <td>0</td>\n",
       "      <td>1</td>\n",
       "      <td>1</td>\n",
       "      <td>0</td>\n",
       "    </tr>\n",
       "  </tbody>\n",
       "</table>\n",
       "</div>"
      ],
      "text/plain": [
       "   agreement_rk    id_client  target  personal_income   age  child_total  \\\n",
       "0    59910150.0  106804370.0     0.0           5000.0  49.0          2.0   \n",
       "1    59910230.0  106804371.0     0.0          12000.0  32.0          3.0   \n",
       "2    59910525.0  106804372.0     0.0           9000.0  52.0          4.0   \n",
       "3    59910803.0  106804373.0     0.0          25000.0  39.0          1.0   \n",
       "4    59911781.0  106804374.0     0.0          12000.0  30.0          0.0   \n",
       "\n",
       "   dependants  loan_num_total  loan_num_closed income_interval  \\\n",
       "0         1.0               1              1.0             2-8   \n",
       "1         3.0               1              1.0            8-12   \n",
       "2         0.0               2              1.0            8-12   \n",
       "3         1.0               1              1.0           17-30   \n",
       "4         0.0               2              1.0            8-12   \n",
       "\n",
       "   child_dependants_mean  personal_income_upd  gender_Men  gender_Women  \\\n",
       "0                    1.5          3333.333333           1             0   \n",
       "1                    3.0          4000.000000           1             0   \n",
       "2                    2.0          4500.000000           1             0   \n",
       "3                    1.0         25000.000000           1             0   \n",
       "4                    0.0         15000.000000           0             1   \n",
       "\n",
       "   socstatus_work_fl_No  socstatus_work_fl_Yes  socstatus_pens_fl_No  \\\n",
       "0                     0                      1                     1   \n",
       "1                     0                      1                     1   \n",
       "2                     0                      1                     1   \n",
       "3                     0                      1                     1   \n",
       "4                     0                      1                     1   \n",
       "\n",
       "   socstatus_pens_fl_Yes  \n",
       "0                      0  \n",
       "1                      0  \n",
       "2                      0  \n",
       "3                      0  \n",
       "4                      0  "
      ]
     },
     "execution_count": 54,
     "metadata": {},
     "output_type": "execute_result"
    }
   ],
   "source": [
    "df = pd.get_dummies(df, columns=['gender', 'socstatus_work_fl', 'socstatus_pens_fl'])\n",
    "df.head()"
   ]
  },
  {
   "cell_type": "markdown",
   "metadata": {},
   "source": [
    "#### Стандартизация количественных признаков"
   ]
  },
  {
   "cell_type": "code",
   "execution_count": 55,
   "metadata": {},
   "outputs": [
    {
     "data": {
      "text/html": [
       "<div>\n",
       "<style scoped>\n",
       "    .dataframe tbody tr th:only-of-type {\n",
       "        vertical-align: middle;\n",
       "    }\n",
       "\n",
       "    .dataframe tbody tr th {\n",
       "        vertical-align: top;\n",
       "    }\n",
       "\n",
       "    .dataframe thead th {\n",
       "        text-align: right;\n",
       "    }\n",
       "</style>\n",
       "<table border=\"1\" class=\"dataframe\">\n",
       "  <thead>\n",
       "    <tr style=\"text-align: right;\">\n",
       "      <th></th>\n",
       "      <th>personal_income</th>\n",
       "      <th>personal_income_upd</th>\n",
       "      <th>age</th>\n",
       "      <th>child_total</th>\n",
       "      <th>dependants</th>\n",
       "      <th>loan_num_total</th>\n",
       "      <th>loan_num_closed</th>\n",
       "    </tr>\n",
       "  </thead>\n",
       "  <tbody>\n",
       "    <tr>\n",
       "      <th>0</th>\n",
       "      <td>5000.0</td>\n",
       "      <td>3333.333333</td>\n",
       "      <td>49.0</td>\n",
       "      <td>2.0</td>\n",
       "      <td>1.0</td>\n",
       "      <td>1</td>\n",
       "      <td>1.0</td>\n",
       "    </tr>\n",
       "    <tr>\n",
       "      <th>1</th>\n",
       "      <td>12000.0</td>\n",
       "      <td>4000.000000</td>\n",
       "      <td>32.0</td>\n",
       "      <td>3.0</td>\n",
       "      <td>3.0</td>\n",
       "      <td>1</td>\n",
       "      <td>1.0</td>\n",
       "    </tr>\n",
       "    <tr>\n",
       "      <th>2</th>\n",
       "      <td>9000.0</td>\n",
       "      <td>4500.000000</td>\n",
       "      <td>52.0</td>\n",
       "      <td>4.0</td>\n",
       "      <td>0.0</td>\n",
       "      <td>2</td>\n",
       "      <td>1.0</td>\n",
       "    </tr>\n",
       "    <tr>\n",
       "      <th>3</th>\n",
       "      <td>25000.0</td>\n",
       "      <td>25000.000000</td>\n",
       "      <td>39.0</td>\n",
       "      <td>1.0</td>\n",
       "      <td>1.0</td>\n",
       "      <td>1</td>\n",
       "      <td>1.0</td>\n",
       "    </tr>\n",
       "    <tr>\n",
       "      <th>4</th>\n",
       "      <td>12000.0</td>\n",
       "      <td>15000.000000</td>\n",
       "      <td>30.0</td>\n",
       "      <td>0.0</td>\n",
       "      <td>0.0</td>\n",
       "      <td>2</td>\n",
       "      <td>1.0</td>\n",
       "    </tr>\n",
       "    <tr>\n",
       "      <th>...</th>\n",
       "      <td>...</td>\n",
       "      <td>...</td>\n",
       "      <td>...</td>\n",
       "      <td>...</td>\n",
       "      <td>...</td>\n",
       "      <td>...</td>\n",
       "      <td>...</td>\n",
       "    </tr>\n",
       "    <tr>\n",
       "      <th>15218</th>\n",
       "      <td>12000.0</td>\n",
       "      <td>12000.000000</td>\n",
       "      <td>25.0</td>\n",
       "      <td>1.0</td>\n",
       "      <td>1.0</td>\n",
       "      <td>3</td>\n",
       "      <td>2.0</td>\n",
       "    </tr>\n",
       "    <tr>\n",
       "      <th>15219</th>\n",
       "      <td>10000.0</td>\n",
       "      <td>10000.000000</td>\n",
       "      <td>51.0</td>\n",
       "      <td>2.0</td>\n",
       "      <td>0.0</td>\n",
       "      <td>1</td>\n",
       "      <td>0.0</td>\n",
       "    </tr>\n",
       "    <tr>\n",
       "      <th>15220</th>\n",
       "      <td>6000.0</td>\n",
       "      <td>6000.000000</td>\n",
       "      <td>22.0</td>\n",
       "      <td>1.0</td>\n",
       "      <td>1.0</td>\n",
       "      <td>1</td>\n",
       "      <td>0.0</td>\n",
       "    </tr>\n",
       "    <tr>\n",
       "      <th>15221</th>\n",
       "      <td>4500.0</td>\n",
       "      <td>4500.000000</td>\n",
       "      <td>60.0</td>\n",
       "      <td>2.0</td>\n",
       "      <td>0.0</td>\n",
       "      <td>1</td>\n",
       "      <td>0.0</td>\n",
       "    </tr>\n",
       "    <tr>\n",
       "      <th>15222</th>\n",
       "      <td>20000.0</td>\n",
       "      <td>20000.000000</td>\n",
       "      <td>37.0</td>\n",
       "      <td>2.0</td>\n",
       "      <td>0.0</td>\n",
       "      <td>1</td>\n",
       "      <td>0.0</td>\n",
       "    </tr>\n",
       "  </tbody>\n",
       "</table>\n",
       "<p>15223 rows × 7 columns</p>\n",
       "</div>"
      ],
      "text/plain": [
       "       personal_income  personal_income_upd   age  child_total  dependants  \\\n",
       "0               5000.0          3333.333333  49.0          2.0         1.0   \n",
       "1              12000.0          4000.000000  32.0          3.0         3.0   \n",
       "2               9000.0          4500.000000  52.0          4.0         0.0   \n",
       "3              25000.0         25000.000000  39.0          1.0         1.0   \n",
       "4              12000.0         15000.000000  30.0          0.0         0.0   \n",
       "...                ...                  ...   ...          ...         ...   \n",
       "15218          12000.0         12000.000000  25.0          1.0         1.0   \n",
       "15219          10000.0         10000.000000  51.0          2.0         0.0   \n",
       "15220           6000.0          6000.000000  22.0          1.0         1.0   \n",
       "15221           4500.0          4500.000000  60.0          2.0         0.0   \n",
       "15222          20000.0         20000.000000  37.0          2.0         0.0   \n",
       "\n",
       "       loan_num_total  loan_num_closed  \n",
       "0                   1              1.0  \n",
       "1                   1              1.0  \n",
       "2                   2              1.0  \n",
       "3                   1              1.0  \n",
       "4                   2              1.0  \n",
       "...               ...              ...  \n",
       "15218               3              2.0  \n",
       "15219               1              0.0  \n",
       "15220               1              0.0  \n",
       "15221               1              0.0  \n",
       "15222               1              0.0  \n",
       "\n",
       "[15223 rows x 7 columns]"
      ]
     },
     "execution_count": 55,
     "metadata": {},
     "output_type": "execute_result"
    }
   ],
   "source": [
    "# Создаем датафрейм, содержащий только выбранные количественные признаки.\n",
    "data = df[['personal_income', 'personal_income_upd', 'age', 'child_total', 'dependants', 'loan_num_total', 'loan_num_closed']]\n",
    "data"
   ]
  },
  {
   "cell_type": "code",
   "execution_count": 56,
   "metadata": {},
   "outputs": [
    {
     "data": {
      "text/html": [
       "<style>#sk-container-id-1 {color: black;background-color: white;}#sk-container-id-1 pre{padding: 0;}#sk-container-id-1 div.sk-toggleable {background-color: white;}#sk-container-id-1 label.sk-toggleable__label {cursor: pointer;display: block;width: 100%;margin-bottom: 0;padding: 0.3em;box-sizing: border-box;text-align: center;}#sk-container-id-1 label.sk-toggleable__label-arrow:before {content: \"▸\";float: left;margin-right: 0.25em;color: #696969;}#sk-container-id-1 label.sk-toggleable__label-arrow:hover:before {color: black;}#sk-container-id-1 div.sk-estimator:hover label.sk-toggleable__label-arrow:before {color: black;}#sk-container-id-1 div.sk-toggleable__content {max-height: 0;max-width: 0;overflow: hidden;text-align: left;background-color: #f0f8ff;}#sk-container-id-1 div.sk-toggleable__content pre {margin: 0.2em;color: black;border-radius: 0.25em;background-color: #f0f8ff;}#sk-container-id-1 input.sk-toggleable__control:checked~div.sk-toggleable__content {max-height: 200px;max-width: 100%;overflow: auto;}#sk-container-id-1 input.sk-toggleable__control:checked~label.sk-toggleable__label-arrow:before {content: \"▾\";}#sk-container-id-1 div.sk-estimator input.sk-toggleable__control:checked~label.sk-toggleable__label {background-color: #d4ebff;}#sk-container-id-1 div.sk-label input.sk-toggleable__control:checked~label.sk-toggleable__label {background-color: #d4ebff;}#sk-container-id-1 input.sk-hidden--visually {border: 0;clip: rect(1px 1px 1px 1px);clip: rect(1px, 1px, 1px, 1px);height: 1px;margin: -1px;overflow: hidden;padding: 0;position: absolute;width: 1px;}#sk-container-id-1 div.sk-estimator {font-family: monospace;background-color: #f0f8ff;border: 1px dotted black;border-radius: 0.25em;box-sizing: border-box;margin-bottom: 0.5em;}#sk-container-id-1 div.sk-estimator:hover {background-color: #d4ebff;}#sk-container-id-1 div.sk-parallel-item::after {content: \"\";width: 100%;border-bottom: 1px solid gray;flex-grow: 1;}#sk-container-id-1 div.sk-label:hover label.sk-toggleable__label {background-color: #d4ebff;}#sk-container-id-1 div.sk-serial::before {content: \"\";position: absolute;border-left: 1px solid gray;box-sizing: border-box;top: 0;bottom: 0;left: 50%;z-index: 0;}#sk-container-id-1 div.sk-serial {display: flex;flex-direction: column;align-items: center;background-color: white;padding-right: 0.2em;padding-left: 0.2em;position: relative;}#sk-container-id-1 div.sk-item {position: relative;z-index: 1;}#sk-container-id-1 div.sk-parallel {display: flex;align-items: stretch;justify-content: center;background-color: white;position: relative;}#sk-container-id-1 div.sk-item::before, #sk-container-id-1 div.sk-parallel-item::before {content: \"\";position: absolute;border-left: 1px solid gray;box-sizing: border-box;top: 0;bottom: 0;left: 50%;z-index: -1;}#sk-container-id-1 div.sk-parallel-item {display: flex;flex-direction: column;z-index: 1;position: relative;background-color: white;}#sk-container-id-1 div.sk-parallel-item:first-child::after {align-self: flex-end;width: 50%;}#sk-container-id-1 div.sk-parallel-item:last-child::after {align-self: flex-start;width: 50%;}#sk-container-id-1 div.sk-parallel-item:only-child::after {width: 0;}#sk-container-id-1 div.sk-dashed-wrapped {border: 1px dashed gray;margin: 0 0.4em 0.5em 0.4em;box-sizing: border-box;padding-bottom: 0.4em;background-color: white;}#sk-container-id-1 div.sk-label label {font-family: monospace;font-weight: bold;display: inline-block;line-height: 1.2em;}#sk-container-id-1 div.sk-label-container {text-align: center;}#sk-container-id-1 div.sk-container {/* jupyter's `normalize.less` sets `[hidden] { display: none; }` but bootstrap.min.css set `[hidden] { display: none !important; }` so we also need the `!important` here to be able to override the default hidden behavior on the sphinx rendered scikit-learn.org. See: https://github.com/scikit-learn/scikit-learn/issues/21755 */display: inline-block !important;position: relative;}#sk-container-id-1 div.sk-text-repr-fallback {display: none;}</style><div id=\"sk-container-id-1\" class=\"sk-top-container\"><div class=\"sk-text-repr-fallback\"><pre>StandardScaler()</pre><b>In a Jupyter environment, please rerun this cell to show the HTML representation or trust the notebook. <br />On GitHub, the HTML representation is unable to render, please try loading this page with nbviewer.org.</b></div><div class=\"sk-container\" hidden><div class=\"sk-item\"><div class=\"sk-estimator sk-toggleable\"><input class=\"sk-toggleable__control sk-hidden--visually\" id=\"sk-estimator-id-1\" type=\"checkbox\" checked><label for=\"sk-estimator-id-1\" class=\"sk-toggleable__label sk-toggleable__label-arrow\">StandardScaler</label><div class=\"sk-toggleable__content\"><pre>StandardScaler()</pre></div></div></div></div></div>"
      ],
      "text/plain": [
       "StandardScaler()"
      ]
     },
     "execution_count": 56,
     "metadata": {},
     "output_type": "execute_result"
    }
   ],
   "source": [
    "# Создаем объект класса StandardScaler и идентифицируем параметры преобразования на датафрейме с количественными переменными.\n",
    "std_scaler = StandardScaler()\n",
    "std_scaler.fit(data)"
   ]
  },
  {
   "cell_type": "code",
   "execution_count": 57,
   "metadata": {},
   "outputs": [],
   "source": [
    "# Применяем преобразование и сохраняем в новую переменную.\n",
    "std_scaled = std_scaler.transform(data)"
   ]
  },
  {
   "cell_type": "code",
   "execution_count": 58,
   "metadata": {},
   "outputs": [
    {
     "data": {
      "text/plain": [
       "['personal_income_std',\n",
       " 'personal_income_upd_std',\n",
       " 'age_std',\n",
       " 'child_total_std',\n",
       " 'dependants_std',\n",
       " 'loan_num_total_std',\n",
       " 'loan_num_closed_std']"
      ]
     },
     "execution_count": 58,
     "metadata": {},
     "output_type": "execute_result"
    }
   ],
   "source": [
    "# Создаем наименования новых признаков по шаблону: year_std для year и так далее.\n",
    "col = ['personal_income', 'personal_income_upd', 'age', 'child_total', 'dependants', 'loan_num_total', 'loan_num_closed']\n",
    "col_new = []\n",
    "\n",
    "for i in col:\n",
    "    col_new.append(i + '_std') \n",
    "    \n",
    "col_new"
   ]
  },
  {
   "cell_type": "code",
   "execution_count": 59,
   "metadata": {},
   "outputs": [
    {
     "data": {
      "text/html": [
       "<div>\n",
       "<style scoped>\n",
       "    .dataframe tbody tr th:only-of-type {\n",
       "        vertical-align: middle;\n",
       "    }\n",
       "\n",
       "    .dataframe tbody tr th {\n",
       "        vertical-align: top;\n",
       "    }\n",
       "\n",
       "    .dataframe thead th {\n",
       "        text-align: right;\n",
       "    }\n",
       "</style>\n",
       "<table border=\"1\" class=\"dataframe\">\n",
       "  <thead>\n",
       "    <tr style=\"text-align: right;\">\n",
       "      <th></th>\n",
       "      <th>agreement_rk</th>\n",
       "      <th>id_client</th>\n",
       "      <th>target</th>\n",
       "      <th>personal_income</th>\n",
       "      <th>age</th>\n",
       "      <th>child_total</th>\n",
       "      <th>dependants</th>\n",
       "      <th>loan_num_total</th>\n",
       "      <th>loan_num_closed</th>\n",
       "      <th>income_interval</th>\n",
       "      <th>...</th>\n",
       "      <th>socstatus_work_fl_Yes</th>\n",
       "      <th>socstatus_pens_fl_No</th>\n",
       "      <th>socstatus_pens_fl_Yes</th>\n",
       "      <th>personal_income_std</th>\n",
       "      <th>personal_income_upd_std</th>\n",
       "      <th>age_std</th>\n",
       "      <th>child_total_std</th>\n",
       "      <th>dependants_std</th>\n",
       "      <th>loan_num_total_std</th>\n",
       "      <th>loan_num_closed_std</th>\n",
       "    </tr>\n",
       "  </thead>\n",
       "  <tbody>\n",
       "    <tr>\n",
       "      <th>0</th>\n",
       "      <td>59910150.0</td>\n",
       "      <td>106804370.0</td>\n",
       "      <td>0.0</td>\n",
       "      <td>5000.0</td>\n",
       "      <td>49.0</td>\n",
       "      <td>2.0</td>\n",
       "      <td>1.0</td>\n",
       "      <td>1</td>\n",
       "      <td>1.0</td>\n",
       "      <td>2-8</td>\n",
       "      <td>...</td>\n",
       "      <td>1</td>\n",
       "      <td>1</td>\n",
       "      <td>0</td>\n",
       "      <td>-1.256319</td>\n",
       "      <td>-1.261861</td>\n",
       "      <td>0.740810</td>\n",
       "      <td>0.920593</td>\n",
       "      <td>0.441136</td>\n",
       "      <td>-0.501485</td>\n",
       "      <td>0.258651</td>\n",
       "    </tr>\n",
       "    <tr>\n",
       "      <th>1</th>\n",
       "      <td>59910230.0</td>\n",
       "      <td>106804371.0</td>\n",
       "      <td>0.0</td>\n",
       "      <td>12000.0</td>\n",
       "      <td>32.0</td>\n",
       "      <td>3.0</td>\n",
       "      <td>3.0</td>\n",
       "      <td>1</td>\n",
       "      <td>1.0</td>\n",
       "      <td>8-12</td>\n",
       "      <td>...</td>\n",
       "      <td>1</td>\n",
       "      <td>1</td>\n",
       "      <td>0</td>\n",
       "      <td>-0.210539</td>\n",
       "      <td>-1.177377</td>\n",
       "      <td>-0.724621</td>\n",
       "      <td>1.939806</td>\n",
       "      <td>2.920522</td>\n",
       "      <td>-0.501485</td>\n",
       "      <td>0.258651</td>\n",
       "    </tr>\n",
       "    <tr>\n",
       "      <th>2</th>\n",
       "      <td>59910525.0</td>\n",
       "      <td>106804372.0</td>\n",
       "      <td>0.0</td>\n",
       "      <td>9000.0</td>\n",
       "      <td>52.0</td>\n",
       "      <td>4.0</td>\n",
       "      <td>0.0</td>\n",
       "      <td>2</td>\n",
       "      <td>1.0</td>\n",
       "      <td>8-12</td>\n",
       "      <td>...</td>\n",
       "      <td>1</td>\n",
       "      <td>1</td>\n",
       "      <td>0</td>\n",
       "      <td>-0.658731</td>\n",
       "      <td>-1.114014</td>\n",
       "      <td>0.999415</td>\n",
       "      <td>2.959019</td>\n",
       "      <td>-0.798557</td>\n",
       "      <td>0.809316</td>\n",
       "      <td>0.258651</td>\n",
       "    </tr>\n",
       "    <tr>\n",
       "      <th>3</th>\n",
       "      <td>59910803.0</td>\n",
       "      <td>106804373.0</td>\n",
       "      <td>0.0</td>\n",
       "      <td>25000.0</td>\n",
       "      <td>39.0</td>\n",
       "      <td>1.0</td>\n",
       "      <td>1.0</td>\n",
       "      <td>1</td>\n",
       "      <td>1.0</td>\n",
       "      <td>17-30</td>\n",
       "      <td>...</td>\n",
       "      <td>1</td>\n",
       "      <td>1</td>\n",
       "      <td>0</td>\n",
       "      <td>1.731625</td>\n",
       "      <td>1.483862</td>\n",
       "      <td>-0.121208</td>\n",
       "      <td>-0.098621</td>\n",
       "      <td>0.441136</td>\n",
       "      <td>-0.501485</td>\n",
       "      <td>0.258651</td>\n",
       "    </tr>\n",
       "    <tr>\n",
       "      <th>4</th>\n",
       "      <td>59911781.0</td>\n",
       "      <td>106804374.0</td>\n",
       "      <td>0.0</td>\n",
       "      <td>12000.0</td>\n",
       "      <td>30.0</td>\n",
       "      <td>0.0</td>\n",
       "      <td>0.0</td>\n",
       "      <td>2</td>\n",
       "      <td>1.0</td>\n",
       "      <td>8-12</td>\n",
       "      <td>...</td>\n",
       "      <td>1</td>\n",
       "      <td>1</td>\n",
       "      <td>0</td>\n",
       "      <td>-0.210539</td>\n",
       "      <td>0.216605</td>\n",
       "      <td>-0.897024</td>\n",
       "      <td>-1.117834</td>\n",
       "      <td>-0.798557</td>\n",
       "      <td>0.809316</td>\n",
       "      <td>0.258651</td>\n",
       "    </tr>\n",
       "  </tbody>\n",
       "</table>\n",
       "<p>5 rows × 25 columns</p>\n",
       "</div>"
      ],
      "text/plain": [
       "   agreement_rk    id_client  target  personal_income   age  child_total  \\\n",
       "0    59910150.0  106804370.0     0.0           5000.0  49.0          2.0   \n",
       "1    59910230.0  106804371.0     0.0          12000.0  32.0          3.0   \n",
       "2    59910525.0  106804372.0     0.0           9000.0  52.0          4.0   \n",
       "3    59910803.0  106804373.0     0.0          25000.0  39.0          1.0   \n",
       "4    59911781.0  106804374.0     0.0          12000.0  30.0          0.0   \n",
       "\n",
       "   dependants  loan_num_total  loan_num_closed income_interval  ...  \\\n",
       "0         1.0               1              1.0             2-8  ...   \n",
       "1         3.0               1              1.0            8-12  ...   \n",
       "2         0.0               2              1.0            8-12  ...   \n",
       "3         1.0               1              1.0           17-30  ...   \n",
       "4         0.0               2              1.0            8-12  ...   \n",
       "\n",
       "   socstatus_work_fl_Yes  socstatus_pens_fl_No  socstatus_pens_fl_Yes  \\\n",
       "0                      1                     1                      0   \n",
       "1                      1                     1                      0   \n",
       "2                      1                     1                      0   \n",
       "3                      1                     1                      0   \n",
       "4                      1                     1                      0   \n",
       "\n",
       "   personal_income_std  personal_income_upd_std   age_std  child_total_std  \\\n",
       "0            -1.256319                -1.261861  0.740810         0.920593   \n",
       "1            -0.210539                -1.177377 -0.724621         1.939806   \n",
       "2            -0.658731                -1.114014  0.999415         2.959019   \n",
       "3             1.731625                 1.483862 -0.121208        -0.098621   \n",
       "4            -0.210539                 0.216605 -0.897024        -1.117834   \n",
       "\n",
       "   dependants_std  loan_num_total_std  loan_num_closed_std  \n",
       "0        0.441136           -0.501485             0.258651  \n",
       "1        2.920522           -0.501485             0.258651  \n",
       "2       -0.798557            0.809316             0.258651  \n",
       "3        0.441136           -0.501485             0.258651  \n",
       "4       -0.798557            0.809316             0.258651  \n",
       "\n",
       "[5 rows x 25 columns]"
      ]
     },
     "execution_count": 59,
     "metadata": {},
     "output_type": "execute_result"
    }
   ],
   "source": [
    "# Добавляем в исходный датафрейм получившиеся новые признаки.\n",
    "df[col_new] = std_scaled\n",
    "df.head()"
   ]
  },
  {
   "cell_type": "code",
   "execution_count": 60,
   "metadata": {},
   "outputs": [],
   "source": [
    "# Удалим колонки, которые были исходными для формирования признаков, и новые признаки, которые были добавлены с целью обучения.\n",
    "# Использовать \"айдишники\" при обучении не будем - удадяей и их.\n",
    "\n",
    "columns_for_drop = ['agreement_rk', 'id_client', 'personal_income', 'personal_income_upd', 'age', 'child_total', 'dependants',\n",
    "                    'loan_num_total', 'loan_num_closed', 'income_interval', 'child_dependants_mean']\n",
    "                    \n",
    "df = df.drop(columns=columns_for_drop)   "
   ]
  },
  {
   "cell_type": "code",
   "execution_count": 61,
   "metadata": {},
   "outputs": [
    {
     "name": "stdout",
     "output_type": "stream",
     "text": [
      "Index(['target', 'gender_Men', 'gender_Women', 'socstatus_work_fl_No',\n",
      "       'socstatus_work_fl_Yes', 'socstatus_pens_fl_No',\n",
      "       'socstatus_pens_fl_Yes', 'personal_income_std',\n",
      "       'personal_income_upd_std', 'age_std', 'child_total_std',\n",
      "       'dependants_std', 'loan_num_total_std', 'loan_num_closed_std'],\n",
      "      dtype='object')\n",
      "(15223, 14)\n"
     ]
    }
   ],
   "source": [
    "# Распечатаем оставшийся список колонок и размерность финального датафрейма.\n",
    "print(df.columns)\n",
    "print(df.shape)"
   ]
  },
  {
   "cell_type": "code",
   "execution_count": 62,
   "metadata": {},
   "outputs": [
    {
     "name": "stdout",
     "output_type": "stream",
     "text": [
      "<class 'pandas.core.frame.DataFrame'>\n",
      "RangeIndex: 15223 entries, 0 to 15222\n",
      "Data columns (total 14 columns):\n",
      " #   Column                   Non-Null Count  Dtype  \n",
      "---  ------                   --------------  -----  \n",
      " 0   target                   15223 non-null  float64\n",
      " 1   gender_Men               15223 non-null  uint8  \n",
      " 2   gender_Women             15223 non-null  uint8  \n",
      " 3   socstatus_work_fl_No     15223 non-null  uint8  \n",
      " 4   socstatus_work_fl_Yes    15223 non-null  uint8  \n",
      " 5   socstatus_pens_fl_No     15223 non-null  uint8  \n",
      " 6   socstatus_pens_fl_Yes    15223 non-null  uint8  \n",
      " 7   personal_income_std      15223 non-null  float64\n",
      " 8   personal_income_upd_std  15223 non-null  float64\n",
      " 9   age_std                  15223 non-null  float64\n",
      " 10  child_total_std          15223 non-null  float64\n",
      " 11  dependants_std           15223 non-null  float64\n",
      " 12  loan_num_total_std       15223 non-null  float64\n",
      " 13  loan_num_closed_std      15223 non-null  float64\n",
      "dtypes: float64(8), uint8(6)\n",
      "memory usage: 1.0 MB\n"
     ]
    }
   ],
   "source": [
    "df.info()"
   ]
  },
  {
   "cell_type": "markdown",
   "metadata": {},
   "source": [
    "## Моделирование"
   ]
  },
  {
   "cell_type": "code",
   "execution_count": 63,
   "metadata": {},
   "outputs": [],
   "source": [
    "# Разделение на обучающую и тестовую выборки\n",
    "\n",
    "x = df.drop(['target'], axis=1)\n",
    "y = df['target']\n",
    "\n",
    "x_train, x_test, y_train, y_test = train_test_split(x, y, train_size=0.7, random_state=73)"
   ]
  },
  {
   "cell_type": "code",
   "execution_count": 64,
   "metadata": {},
   "outputs": [],
   "source": [
    "# Создание объекта LeaveOneOut.\n",
    "loo = LeaveOneOut()"
   ]
  },
  {
   "cell_type": "code",
   "execution_count": 65,
   "metadata": {},
   "outputs": [
    {
     "name": "stdout",
     "output_type": "stream",
     "text": [
      "CPU times: total: 1min 20s\n",
      "Wall time: 6min 8s\n"
     ]
    }
   ],
   "source": [
    "%%time\n",
    "# При кросс-валидации по train-выборке, этот объект LeaveOneOut будет тестовым для оценки качества,\n",
    "# когда как остальные (их будет n-1 от количества объектов в train-выборке) будут использованы в качестве тренировочных.\n",
    "# В качестве конечной метрики будет использована средняя метрика полученная на n-объектах LeaveOneOut при кросс-валидации.\n",
    "# Тестировались алгоритмы ‘ball_tree’, ‘kd_tree’, ‘brute’ и взвешивания ‘uniform’, ‘distance’.\n",
    "# Чуть-чуть лучшие показатели достигнуты при algorithm='ball_tree', weights='distance'.\n",
    "\n",
    "score_list = []\n",
    "for k in range(3, 16, 2):\n",
    "    model_knn = KNeighborsClassifier(n_neighbors=k, algorithm='ball_tree', weights='distance', n_jobs=-1)\n",
    "    scores = cross_val_score(model_knn, x_train, y_train, scoring='f1', cv=loo, n_jobs=-1)\n",
    "    score_list.append([k, scores.mean()])"
   ]
  },
  {
   "cell_type": "code",
   "execution_count": 66,
   "metadata": {},
   "outputs": [
    {
     "data": {
      "text/html": [
       "<div>\n",
       "<style scoped>\n",
       "    .dataframe tbody tr th:only-of-type {\n",
       "        vertical-align: middle;\n",
       "    }\n",
       "\n",
       "    .dataframe tbody tr th {\n",
       "        vertical-align: top;\n",
       "    }\n",
       "\n",
       "    .dataframe thead th {\n",
       "        text-align: right;\n",
       "    }\n",
       "</style>\n",
       "<table border=\"1\" class=\"dataframe\">\n",
       "  <thead>\n",
       "    <tr style=\"text-align: right;\">\n",
       "      <th></th>\n",
       "      <th>k</th>\n",
       "      <th>f1_score</th>\n",
       "    </tr>\n",
       "  </thead>\n",
       "  <tbody>\n",
       "    <tr>\n",
       "      <th>0</th>\n",
       "      <td>3</td>\n",
       "      <td>0.010698</td>\n",
       "    </tr>\n",
       "    <tr>\n",
       "      <th>1</th>\n",
       "      <td>5</td>\n",
       "      <td>0.007695</td>\n",
       "    </tr>\n",
       "    <tr>\n",
       "      <th>2</th>\n",
       "      <td>7</td>\n",
       "      <td>0.006006</td>\n",
       "    </tr>\n",
       "    <tr>\n",
       "      <th>3</th>\n",
       "      <td>9</td>\n",
       "      <td>0.005537</td>\n",
       "    </tr>\n",
       "    <tr>\n",
       "      <th>4</th>\n",
       "      <td>11</td>\n",
       "      <td>0.005349</td>\n",
       "    </tr>\n",
       "    <tr>\n",
       "      <th>5</th>\n",
       "      <td>13</td>\n",
       "      <td>0.005255</td>\n",
       "    </tr>\n",
       "    <tr>\n",
       "      <th>6</th>\n",
       "      <td>15</td>\n",
       "      <td>0.005068</td>\n",
       "    </tr>\n",
       "  </tbody>\n",
       "</table>\n",
       "</div>"
      ],
      "text/plain": [
       "    k  f1_score\n",
       "0   3  0.010698\n",
       "1   5  0.007695\n",
       "2   7  0.006006\n",
       "3   9  0.005537\n",
       "4  11  0.005349\n",
       "5  13  0.005255\n",
       "6  15  0.005068"
      ]
     },
     "execution_count": 66,
     "metadata": {},
     "output_type": "execute_result"
    }
   ],
   "source": [
    "# Датафрейм с числом k-соседей и соответствующим показателем метрики f1.\n",
    "score_df = pd.DataFrame(score_list, columns=['k', 'f1_score'])\n",
    "score_df\n",
    "# Лучшее значение f1-меры достигнуто при k-соседей равным 3."
   ]
  },
  {
   "cell_type": "code",
   "execution_count": 67,
   "metadata": {},
   "outputs": [
    {
     "data": {
      "image/png": "[encoded data removed]",
      "text/plain": [
       "<Figure size 640x480 with 1 Axes>"
      ]
     },
     "metadata": {},
     "output_type": "display_data"
    }
   ],
   "source": [
    "# График зависимости метрики f1 от числа k-соседей.\n",
    "plt.plot(score_df['k'], score_df['f1_score'], linewidth=2, color='g')\n",
    "plt.xlabel('k')\n",
    "plt.ylabel('f1_score')\n",
    "plt.show()"
   ]
  },
  {
   "cell_type": "code",
   "execution_count": 68,
   "metadata": {},
   "outputs": [
    {
     "data": {
      "text/html": [
       "<style>#sk-container-id-2 {color: black;background-color: white;}#sk-container-id-2 pre{padding: 0;}#sk-container-id-2 div.sk-toggleable {background-color: white;}#sk-container-id-2 label.sk-toggleable__label {cursor: pointer;display: block;width: 100%;margin-bottom: 0;padding: 0.3em;box-sizing: border-box;text-align: center;}#sk-container-id-2 label.sk-toggleable__label-arrow:before {content: \"▸\";float: left;margin-right: 0.25em;color: #696969;}#sk-container-id-2 label.sk-toggleable__label-arrow:hover:before {color: black;}#sk-container-id-2 div.sk-estimator:hover label.sk-toggleable__label-arrow:before {color: black;}#sk-container-id-2 div.sk-toggleable__content {max-height: 0;max-width: 0;overflow: hidden;text-align: left;background-color: #f0f8ff;}#sk-container-id-2 div.sk-toggleable__content pre {margin: 0.2em;color: black;border-radius: 0.25em;background-color: #f0f8ff;}#sk-container-id-2 input.sk-toggleable__control:checked~div.sk-toggleable__content {max-height: 200px;max-width: 100%;overflow: auto;}#sk-container-id-2 input.sk-toggleable__control:checked~label.sk-toggleable__label-arrow:before {content: \"▾\";}#sk-container-id-2 div.sk-estimator input.sk-toggleable__control:checked~label.sk-toggleable__label {background-color: #d4ebff;}#sk-container-id-2 div.sk-label input.sk-toggleable__control:checked~label.sk-toggleable__label {background-color: #d4ebff;}#sk-container-id-2 input.sk-hidden--visually {border: 0;clip: rect(1px 1px 1px 1px);clip: rect(1px, 1px, 1px, 1px);height: 1px;margin: -1px;overflow: hidden;padding: 0;position: absolute;width: 1px;}#sk-container-id-2 div.sk-estimator {font-family: monospace;background-color: #f0f8ff;border: 1px dotted black;border-radius: 0.25em;box-sizing: border-box;margin-bottom: 0.5em;}#sk-container-id-2 div.sk-estimator:hover {background-color: #d4ebff;}#sk-container-id-2 div.sk-parallel-item::after {content: \"\";width: 100%;border-bottom: 1px solid gray;flex-grow: 1;}#sk-container-id-2 div.sk-label:hover label.sk-toggleable__label {background-color: #d4ebff;}#sk-container-id-2 div.sk-serial::before {content: \"\";position: absolute;border-left: 1px solid gray;box-sizing: border-box;top: 0;bottom: 0;left: 50%;z-index: 0;}#sk-container-id-2 div.sk-serial {display: flex;flex-direction: column;align-items: center;background-color: white;padding-right: 0.2em;padding-left: 0.2em;position: relative;}#sk-container-id-2 div.sk-item {position: relative;z-index: 1;}#sk-container-id-2 div.sk-parallel {display: flex;align-items: stretch;justify-content: center;background-color: white;position: relative;}#sk-container-id-2 div.sk-item::before, #sk-container-id-2 div.sk-parallel-item::before {content: \"\";position: absolute;border-left: 1px solid gray;box-sizing: border-box;top: 0;bottom: 0;left: 50%;z-index: -1;}#sk-container-id-2 div.sk-parallel-item {display: flex;flex-direction: column;z-index: 1;position: relative;background-color: white;}#sk-container-id-2 div.sk-parallel-item:first-child::after {align-self: flex-end;width: 50%;}#sk-container-id-2 div.sk-parallel-item:last-child::after {align-self: flex-start;width: 50%;}#sk-container-id-2 div.sk-parallel-item:only-child::after {width: 0;}#sk-container-id-2 div.sk-dashed-wrapped {border: 1px dashed gray;margin: 0 0.4em 0.5em 0.4em;box-sizing: border-box;padding-bottom: 0.4em;background-color: white;}#sk-container-id-2 div.sk-label label {font-family: monospace;font-weight: bold;display: inline-block;line-height: 1.2em;}#sk-container-id-2 div.sk-label-container {text-align: center;}#sk-container-id-2 div.sk-container {/* jupyter's `normalize.less` sets `[hidden] { display: none; }` but bootstrap.min.css set `[hidden] { display: none !important; }` so we also need the `!important` here to be able to override the default hidden behavior on the sphinx rendered scikit-learn.org. See: https://github.com/scikit-learn/scikit-learn/issues/21755 */display: inline-block !important;position: relative;}#sk-container-id-2 div.sk-text-repr-fallback {display: none;}</style><div id=\"sk-container-id-2\" class=\"sk-top-container\"><div class=\"sk-text-repr-fallback\"><pre>KNeighborsClassifier(algorithm=&#x27;ball_tree&#x27;, n_jobs=-1, n_neighbors=3,\n",
       "                     weights=&#x27;distance&#x27;)</pre><b>In a Jupyter environment, please rerun this cell to show the HTML representation or trust the notebook. <br />On GitHub, the HTML representation is unable to render, please try loading this page with nbviewer.org.</b></div><div class=\"sk-container\" hidden><div class=\"sk-item\"><div class=\"sk-estimator sk-toggleable\"><input class=\"sk-toggleable__control sk-hidden--visually\" id=\"sk-estimator-id-2\" type=\"checkbox\" checked><label for=\"sk-estimator-id-2\" class=\"sk-toggleable__label sk-toggleable__label-arrow\">KNeighborsClassifier</label><div class=\"sk-toggleable__content\"><pre>KNeighborsClassifier(algorithm=&#x27;ball_tree&#x27;, n_jobs=-1, n_neighbors=3,\n",
       "                     weights=&#x27;distance&#x27;)</pre></div></div></div></div></div>"
      ],
      "text/plain": [
       "KNeighborsClassifier(algorithm='ball_tree', n_jobs=-1, n_neighbors=3,\n",
       "                     weights='distance')"
      ]
     },
     "execution_count": 68,
     "metadata": {},
     "output_type": "execute_result"
    }
   ],
   "source": [
    "# Обучение модели с лучшими параметрами.\n",
    "knn = KNeighborsClassifier(n_neighbors=3, n_jobs=-1, algorithm='ball_tree', weights='distance')\n",
    "knn.fit(x_train, y_train)"
   ]
  },
  {
   "cell_type": "code",
   "execution_count": 69,
   "metadata": {},
   "outputs": [
    {
     "name": "stdout",
     "output_type": "stream",
     "text": [
      "0.09467455621301775\n"
     ]
    }
   ],
   "source": [
    "# Предсказание целевой переменной и вывод метрики f1 для тестовой выборки.\n",
    "predicted_test = knn.predict(x_test)\n",
    "print(f1_score(y_test, predicted_test))"
   ]
  },
  {
   "cell_type": "code",
   "execution_count": 70,
   "metadata": {},
   "outputs": [
    {
     "name": "stdout",
     "output_type": "stream",
     "text": [
      "              precision    recall  f1-score   support\n",
      "\n",
      "         0.0       0.88      0.93      0.91      4037\n",
      "         1.0       0.13      0.08      0.09       530\n",
      "\n",
      "    accuracy                           0.83      4567\n",
      "   macro avg       0.51      0.50      0.50      4567\n",
      "weighted avg       0.80      0.83      0.81      4567\n",
      "\n",
      "[[3762  275]\n",
      " [ 490   40]]\n"
     ]
    }
   ],
   "source": [
    "# Матрица сопряженности и матрица ошибок.\n",
    "print(classification_report(y_test, predicted_test))\n",
    "print(confusion_matrix(y_test, predicted_test))"
   ]
  },
  {
   "cell_type": "markdown",
   "metadata": {},
   "source": [
    "## Вывод"
   ]
  },
  {
   "cell_type": "code",
   "execution_count": 71,
   "metadata": {},
   "outputs": [
    {
     "data": {
      "image/png": "[encoded data removed]",
      "text/plain": [
       "<Figure size 640x480 with 1 Axes>"
      ]
     },
     "metadata": {},
     "output_type": "display_data"
    }
   ],
   "source": [
    "# Построения графика для анализа зависимости точности, отзыва и порога принятия решений.\n",
    "precision, recall, threshold = precision_recall_curve(y_test, knn.predict_proba(x_test)[:, 1])\n",
    "\n",
    "plt.plot(threshold, precision[:-1], label='Precision')\n",
    "plt.plot(threshold, recall[:-1], 'g-', label='Recall')\n",
    "plt.ylabel('Значение')\n",
    "plt.xlabel('Порог принятия решений')\n",
    "plt.title('Значения Precision и Recall в зависимости от порога принятия решений')\n",
    "plt.legend(loc='best')\n",
    "plt.show()"
   ]
  },
  {
   "cell_type": "code",
   "execution_count": 72,
   "metadata": {},
   "outputs": [
    {
     "data": {
      "image/png": "[encoded data removed]",
      "text/plain": [
       "<Figure size 640x480 with 1 Axes>"
      ]
     },
     "metadata": {},
     "output_type": "display_data"
    }
   ],
   "source": [
    "# Построение графика roc-кривой.\n",
    "fpr, tpr, treshold = roc_curve(y_test, knn.predict_proba(x_test)[:, 1])\n",
    "roc_auc = auc(fpr, tpr)\n",
    "\n",
    "plt.plot(fpr, tpr, color='darkorange',\n",
    "         label='ROC кривая (area = %0.2f)' % roc_auc)\n",
    "plt.plot([0, 1], [0, 1], color='navy', linestyle='--')\n",
    "plt.xlim([0.0, 1.0])\n",
    "plt.ylim([0.0, 1.05])\n",
    "plt.xlabel('False Positive Rate')\n",
    "plt.ylabel('True Positive Rate')\n",
    "plt.title('График ROC-кривой')\n",
    "plt.legend(loc=\"lower right\")\n",
    "plt.show()"
   ]
  },
  {
   "cell_type": "raw",
   "metadata": {},
   "source": [
    "В нашем бизнесс-кейсе будем считать допустимым присылать маркетинговые предложения клиентам, которые потенциально не склонны их принять (случаи, когда модель предсказала 1 при фактическом значении 0 - согласно матрице ошибок, таких случаев 275). Но будем считать НЕдопустимым НЕприслать предложение клиентам, потенциально склонным к его принятию (модель предсказала 0 при фактическом значении 1 - таких случаев 490). То есть для бизнесса нужно минимизировать false negative ошибки (увеличить recall). Этого можно добиться значительно снизив порог принятия решений.\n",
    "Но главная проблема в том, что метрика roc-auc (применяемая для несбалансированных выборок) очень мала. Значение 0.53 говорит о неудовлетворительном качестве модели, которая лишь чуть лучше рандомного предсказания.\n",
    "Возможные причины низкого качества модели: мало данных, метод k-ближайших соседей не подходит в этом случае (гипотеза компактности к объектам из выборки неприменима)."
   ]
  },
  {
   "cell_type": "code",
   "execution_count": null,
   "metadata": {},
   "outputs": [],
   "source": []
  }
 ],
 "metadata": {
  "colab": {
   "collapsed_sections": [],
   "name": "homework.ipynb",
   "provenance": []
  },
  "kernelspec": {
   "display_name": "Python 3 (ipykernel)",
   "language": "python",
   "name": "python3"
  },
  "language_info": {
   "codemirror_mode": {
    "name": "ipython",
    "version": 3
   },
   "file_extension": ".py",
   "mimetype": "text/x-python",
   "name": "python",
   "nbconvert_exporter": "python",
   "pygments_lexer": "ipython3",
   "version": "3.11.3"
  }
 },
 "nbformat": 4,
 "nbformat_minor": 1
}
